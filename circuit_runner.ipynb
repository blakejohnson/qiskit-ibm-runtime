{
 "cells": [
  {
   "cell_type": "code",
   "execution_count": 1,
   "id": "silver-grace",
   "metadata": {},
   "outputs": [],
   "source": [
    "import os\n",
    "os.environ[\"PYTHON_EXEC\"] = \"/Users/jessieyu/.pyenv/versions/qka-demo/bin/python3\"\n",
    "os.environ[\"NTC_DOC_FILE\"] = \"runtime/program_doc.json\"\n",
    "os.environ[\"NTC_PROGRAM_FILE\"] = \"runtime/circuit_runner.py\""
   ]
  },
  {
   "cell_type": "code",
   "execution_count": 2,
   "id": "invalid-wagon",
   "metadata": {},
   "outputs": [],
   "source": [
    "from qiskit import IBMQ\n",
    "\n",
    "provider = IBMQ.load_account()\n",
    "backend = provider.backend.ibmq_athens"
   ]
  },
  {
   "cell_type": "code",
   "execution_count": 3,
   "id": "angry-orbit",
   "metadata": {},
   "outputs": [],
   "source": [
    "from qiskit import QuantumCircuit\n",
    "from qiskit.circuit.library import QFT\n",
    "\n",
    "qc = QuantumCircuit(5, 5)\n",
    "qc.x(4)\n",
    "qc.x(2)\n",
    "qc.x(0)\n",
    "qc += QFT(5)\n",
    "qc.measure_all()"
   ]
  },
  {
   "cell_type": "code",
   "execution_count": 4,
   "id": "acknowledged-checkout",
   "metadata": {},
   "outputs": [],
   "source": [
    "def interim_result_callback(interim_result):\n",
    "    print(f\"interim result: {interim_result}\\n\")"
   ]
  },
  {
   "cell_type": "code",
   "execution_count": 5,
   "id": "hired-tradition",
   "metadata": {},
   "outputs": [
    {
     "name": "stdout",
     "output_type": "stream",
     "text": [
      "final result: {'00000 00000': 25, '01000 00000': 30, '01001 00000': 27, '01010 00000': 32, '01011 00000': 38, '01100 00000': 37, '01101 00000': 23, '01110 00000': 38, '01111 00000': 35, '00001 00000': 33, '10000 00000': 22, '10001 00000': 33, '10010 00000': 34, '10011 00000': 34, '10100 00000': 33, '10101 00000': 36, '10110 00000': 41, '10111 00000': 31, '11000 00000': 29, '11001 00000': 21, '11010 00000': 25, '11011 00000': 32, '11100 00000': 37, '11101 00000': 36, '11110 00000': 22, '11111 00000': 35, '00010 00000': 39, '00011 00000': 33, '00100 00000': 29, '00101 00000': 39, '00110 00000': 29, '00111 00000': 36}\n"
     ]
    }
   ],
   "source": [
    "# Call runtime program.\n",
    "\n",
    "runtime_params = {\n",
    "    'circuits': qc\n",
    "}\n",
    "options = {'backend_name': backend.name()}\n",
    "result = provider.runtime.run(program_name=\"Circuit-Runner\",\n",
    "                              options=options,\n",
    "                              params=runtime_params,\n",
    "                              callback=interim_result_callback,\n",
    "                             ).result()\n",
    "print(f\"final result: {result.get_counts()}\")"
   ]
  },
  {
   "cell_type": "code",
   "execution_count": null,
   "id": "soviet-indian",
   "metadata": {},
   "outputs": [],
   "source": []
  }
 ],
 "metadata": {
  "kernelspec": {
   "display_name": "Python 3",
   "language": "python",
   "name": "python3"
  },
  "language_info": {
   "codemirror_mode": {
    "name": "ipython",
    "version": 3
   },
   "file_extension": ".py",
   "mimetype": "text/x-python",
   "name": "python",
   "nbconvert_exporter": "python",
   "pygments_lexer": "ipython3",
   "version": "3.8.1"
  }
 },
 "nbformat": 4,
 "nbformat_minor": 5
}
