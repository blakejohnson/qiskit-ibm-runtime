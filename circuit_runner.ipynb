{
 "cells": [
  {
   "cell_type": "code",
   "execution_count": 1,
   "id": "silver-grace",
   "metadata": {},
   "outputs": [],
   "source": [
    "import os\n",
    "os.environ[\"PYTHON_EXEC\"] = \"/Users/jessieyu/.pyenv/versions/qka-demo/bin/python3\"\n",
    "os.environ[\"NTC_DOC_FILE\"] = \"runtime/program_doc.json\"\n",
    "os.environ[\"NTC_PROGRAM_FILE\"] = \"runtime/circuit_runner.py\""
   ]
  },
  {
   "cell_type": "code",
   "execution_count": 2,
   "id": "invalid-wagon",
   "metadata": {},
   "outputs": [],
   "source": [
    "from qiskit import IBMQ\n",
    "\n",
    "provider = IBMQ.load_account()\n",
    "backend = provider.backend.ibmq_athens"
   ]
  },
  {
   "cell_type": "code",
   "execution_count": 3,
   "id": "angry-orbit",
   "metadata": {},
   "outputs": [],
   "source": [
    "from qiskit.circuit.library import QFT\n",
    "\n",
    "circuits = QFT(4)\n",
    "circuits.measure_all()"
   ]
  },
  {
   "cell_type": "code",
   "execution_count": 4,
   "id": "acknowledged-checkout",
   "metadata": {},
   "outputs": [],
   "source": [
    "def interim_result_callback(interim_result):\n",
    "    print(f\"interim result: {interim_result}\\n\")"
   ]
  },
  {
   "cell_type": "code",
   "execution_count": 5,
   "id": "hired-tradition",
   "metadata": {},
   "outputs": [
    {
     "name": "stdout",
     "output_type": "stream",
     "text": [
      "final result: {'0000': 76, '0001': 54, '0010': 69, '0011': 61, '0100': 55, '0101': 67, '0110': 65, '0111': 61, '1000': 69, '1001': 72, '1010': 69, '1011': 42, '1100': 59, '1101': 75, '1110': 63, '1111': 67}\n"
     ]
    }
   ],
   "source": [
    "# Call runtime program.\n",
    "\n",
    "runtime_params = {\n",
    "    'circuits': circuits\n",
    "}\n",
    "options = {'backend_name': backend.name()}\n",
    "result = provider.runtime.run(program_name=\"Circuit-Runner\",\n",
    "                              options=options,\n",
    "                              params=runtime_params,\n",
    "                              callback=interim_result_callback,\n",
    "                             ).result()\n",
    "print(f\"final result: {result.get_counts()}\")"
   ]
  },
  {
   "cell_type": "code",
   "execution_count": null,
   "id": "soviet-indian",
   "metadata": {},
   "outputs": [],
   "source": []
  }
 ],
 "metadata": {
  "kernelspec": {
   "display_name": "Python 3",
   "language": "python",
   "name": "python3"
  },
  "language_info": {
   "codemirror_mode": {
    "name": "ipython",
    "version": 3
   },
   "file_extension": ".py",
   "mimetype": "text/x-python",
   "name": "python",
   "nbconvert_exporter": "python",
   "pygments_lexer": "ipython3",
   "version": "3.8.1"
  }
 },
 "nbformat": 4,
 "nbformat_minor": 5
}
