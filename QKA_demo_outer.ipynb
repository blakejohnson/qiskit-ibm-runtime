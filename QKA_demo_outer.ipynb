{
 "cells": [
  {
   "cell_type": "markdown",
   "metadata": {},
   "source": [
    "# Quantum Kernel Alignment with Qiskit Runtime\n",
    "\n",
    "#### Classification with Support Vector Machines\n",
    "Classification problems are widespread in machine learning applications. A common method for tackling these problems is the support vector machine (SVM) [1,2]. This supervised learning algorithm uses labeled training samples to find an optimal separating hyperplane between data classes in order to predict the labels of new data points. Often, data is not linearly separable in the original space. In these cases, the kernel trick is used to implicitly encode a transformation of the data into a higher-dimensional feature space through the inner product between pairs of data points, where the data may become separable.\n",
    "\n",
    "#### Quantum Kernels\n",
    "Quantum computers can be used to encode classical data in a quantum-enhanced feature space. In 2019, IBM introduced a quantum algorithm called the quantum kernel estimator (QKE), which uses quantum circuits to evaluate inner products between data points in the quantum feature space [3]. More recently, IBM proved, on certain learning problems, quantum kernels can offer superpolynomial speedups over any classical learner [4]. This means that quantum kernels can someday offer quantum advantage on suitable problems. \n",
    "\n",
    "#### Learning Quantum Kernels for a Dataset\n",
    "In practice, SVMs require a choice of the kernel function. Sometimes, symmetries in the data can inform this selection, other times it is chosen in an ad hoc way. Kernel alignment is one approach to learning a kernel on a given dataset by iteratively adapting it to have high similarity to a target kernel informed from the underlying data distribution [5]. As a result, the SVM with an aligned kernel will likely generalize better to new data than with an unaligned kernel. Using this concept, we introduce quantum kernel alignment (QKA), which is a new algorithm for learning a quantum kernel that maximizes the alignment while converging to the maximum SVM margin [6]. \n",
    "\n",
    "#### Speeding up Quantum Algorithms with Qiskit Runtime\n",
    "QKA is an iterative quantum-classical algorithm, in which quantum hardware executes parametrized quantum circuits (which are used to compute the quantum kernel matrices according to the QKE), while a classical optimizer tunes the parameters of the circuits to maximize the alignment. Iterative algorithms of this type can be slow due to latency between the quantum and classical calculations. Qiskit Runtime is a new framework (?) that can speed up iterative algorithms like QKA by pushing the classical computations into the cloud near (?) the quantum hardware. <span style=\"color:blue\">TODO: add more details here on how runtime can help QKA run faster...</span>.\n",
    "\n",
    "#### Trying This Out on a Specific Learning Problem\n",
    "<span style=\"color:blue\">TODO: discuss the specific problem we are solving... In this tutorial, we define a particular learning problem we call ... Define our state parametrization; $\\pi/2$ should yield 100% test accuracy</span>.\n",
    "\n",
    "\n",
    "<br>\n",
    "The topology of Montreal:\n",
    "<br>\n",
    "\n",
    "<img src=\"qka/aux_files/chip.png\" width=\"500\">\n",
    "\n",
    "<br>\n",
    "Example problem graphs of 4, 7, and 10 qubits:\n",
    "<br>\n",
    "<img src=\"qka/aux_files/subgraphs.png\" width=\"450\">\n",
    "<br>\n",
    "\n",
    "\n",
    "\n",
    "[1] B. E. Boser, I. M. Guyon,  and V. N. Vapnik, Proceedings of the Fifth Annual Workshop on Computational Learning Theory, COLT ’92 (Association for Computing Machinery, New York, NY, USA, 1992) pp. 144-152 [link](https://doi.org/10.1145/130385.130401) <br>\n",
    "[2] V. Vapnik, The Nature of Statistical Learning Theory, Information Science and Statistics (Springer New York, 2013) [link](https://books.google.com/books?id=EqgACAAAQBAJ) <br>\n",
    "[3] V. Havlíček, A. D. Córcoles, K. Temme, A. W. Harrow, A. Kandala, J. M. Chow, and J. M. Gambetta, Nature 567, 209-212 (2019) [link](https://doi.org/10.1038/s41586-019-0980-2) <br>\n",
    "[4] Y. Liu, S. Arunachalam, and K. Temme, arXiv:2010.02174 (2020) [link](https://arxiv.org/abs/2010.02174) <br>\n",
    "[5] N. Cristianini, J. Shawe-taylor, A. Elisseeff, and J. Kandola, Advances in Neural Information Processing Systems 14 (2001) [link](https://proceedings.neurips.cc/paper/2001/file/1f71e393b3809197ed66df836fe833e5-Paper.pdf) <br>\n",
    "[6] Our ref - forthcoming..."
   ]
  },
  {
   "cell_type": "markdown",
   "metadata": {},
   "source": [
    "# Load your IBMQ account and get the quantum backend\n",
    "\n",
    "We'll be using the 27-qubit backend `ibmq_montreal` for this tutorial."
   ]
  },
  {
   "cell_type": "code",
   "execution_count": 1,
   "metadata": {
    "slideshow": {
     "slide_type": "fragment"
    }
   },
   "outputs": [],
   "source": [
    "from qiskit import IBMQ\n",
    "\n",
    "IBMQ.load_account()\n",
    "provider = IBMQ.get_provider(project='qiskit-runtime')\n",
    "backend = provider.get_backend('ibmq_montreal')"
   ]
  },
  {
   "cell_type": "markdown",
   "metadata": {},
   "source": [
    "# Invoke Quantum Kernel Alignment program\n",
    "\n",
    "Before running the Runtime Program for QKA, we'll need to prepare the dataset and configure the settings for the algorithm.\n",
    "\n",
    "## 1. Prepare the dataset\n",
    "\n",
    "First, we load the dataset from the `csv` file and then extract the training the testing samples."
   ]
  },
  {
   "cell_type": "code",
   "execution_count": 6,
   "metadata": {},
   "outputs": [],
   "source": [
    "import numpy as np\n",
    "import pandas as pd\n",
    "\n",
    "# load the dataset\n",
    "\n",
    "df = pd.read_csv('qka/aux_files/dataset_graph7.csv',sep=',', header=None) # alterative problem dataset_graph10.csv\n",
    "data = df.values\n",
    "num_features = np.shape(data)[1]-1 # feature dimension is twice the qubit number\n",
    "\n",
    "# specify the training and testing sets\n",
    "\n",
    "num_train = 4 # number of training samples per class\n",
    "num_test = 5  # number of test samples per class\n",
    "\n",
    "x_train = data[:2*num_train, :-1]\n",
    "y_train = data[:2*num_train, -1]\n",
    "\n",
    "x_test = data[2*num_train:2*(num_train+num_test), :-1]\n",
    "y_test = data[2*num_train:2*(num_train+num_test), -1]"
   ]
  },
  {
   "cell_type": "markdown",
   "metadata": {},
   "source": [
    "## 2. Configure the settings for QKA"
   ]
  },
  {
   "cell_type": "code",
   "execution_count": 8,
   "metadata": {
    "slideshow": {
     "slide_type": "fragment"
    }
   },
   "outputs": [],
   "source": [
    "from qiskit import Aer\n",
    "from qka.featuremaps import FeatureMapACME\n",
    "\n",
    "# Set the parameters:\n",
    "C = 1                 # SVM soft-margin penalty\n",
    "maxiters = 1          # number of SPSA iterations\n",
    "initial_point = [0.1] # initial parameters for the feature map\n",
    "\n",
    "# Define the entangler map to match the problem graph:\n",
    "entangler_map=[[0,2],[3,4],[2,5],[1,4],[2,3],[4,6]]                   # see figure above for the 7-qubit graph\n",
    "# entangler_map=[[0,1],[2,3],[4,5],[6,7],[8,9],[1,2],[3,4],[5,6],[7,8]] # see figure above for the 10-qubit graph\n",
    "\n",
    "# Set the mapping from virtual to physical qubits to match the problem graph:\n",
    "initial_layout = [10, 11, 12, 13, 14, 15, 16]                         # see figure above for the 7-qubit graph\n",
    "# initial_layout = [9, 8, 11, 14, 16, 19, 22, 25, 24, 23]               # see figure above for the 10-qubit graph\n",
    "\n",
    "# Define the feature map:\n",
    "fm = FeatureMapACME(feature_dimension=num_features, entangler_map=entangler_map)"
   ]
  },
  {
   "cell_type": "markdown",
   "metadata": {},
   "source": [
    "## 3. Set up and run the Runtime Program\n",
    "\n",
    "There are two main components we'll need to set up for our Runtime Program: `inputs` (the feature map, labeled dataset, optimizer settings, etc) and `options` (the backend). Once these are specified, we'll run the Program on the quantum backend."
   ]
  },
  {
   "cell_type": "code",
   "execution_count": 9,
   "metadata": {
    "slideshow": {
     "slide_type": "fragment"
    }
   },
   "outputs": [],
   "source": [
    "def interim_result_callback(job_id, interim_result):\n",
    "    print(f\"interim result: {interim_result}\\n\")"
   ]
  },
  {
   "cell_type": "code",
   "execution_count": null,
   "metadata": {
    "scrolled": false,
    "slideshow": {
     "slide_type": "slide"
    }
   },
   "outputs": [],
   "source": [
    "# Call QKA runtime program.\n",
    "runtime_inputs = {\n",
    "    'feature_map': fm,\n",
    "    'data': x_train,\n",
    "    'labels': y_train,\n",
    "    'initial_kernel_parameters': initial_point,\n",
    "    'maxiters': maxiters,\n",
    "    'C': C,\n",
    "    'initial_layout': initial_layout\n",
    "}\n",
    "options = {'backend_name': backend.name()}\n",
    "job = provider.runtime.run(program_id=\"quantum-kernel-alignment\",\n",
    "                              options=options,\n",
    "                              inputs=runtime_inputs,\n",
    "                              callback=interim_result_callback,\n",
    "                              )\n",
    "\n",
    "result = job.result()\n",
    "print(job.job_id())"
   ]
  },
  {
   "cell_type": "markdown",
   "metadata": {},
   "source": [
    "## 4. Retrieve the results of the Runtime Program\n",
    "\n",
    "The output of QKA is the set of aligned kernel parameters and the aligned kernel matrix."
   ]
  },
  {
   "cell_type": "code",
   "execution_count": null,
   "metadata": {},
   "outputs": [],
   "source": [
    "print(f\"aligned_kernel_parameters: {result['aligned_kernel_parameters']}\")\n",
    "print(f\"aligned_kernel_matrix: {result['aligned_kernel_matrix']}\")"
   ]
  },
  {
   "cell_type": "markdown",
   "metadata": {
    "slideshow": {
     "slide_type": "slide"
    }
   },
   "source": [
    "# Use the results of the Runtime Program to test the SVM on new data\n",
    "\n",
    "With the aligned kernel and its parameters in hand, we can use the `sklearn` package to train the SVM and then predict labels of new test points. A second kernel matrix built from the test points is needed for the SVM decision function, so we'll invoke the Circuit Runner Runtime Program."
   ]
  },
  {
   "cell_type": "code",
   "execution_count": null,
   "metadata": {
    "scrolled": true,
    "slideshow": {
     "slide_type": "fragment"
    }
   },
   "outputs": [],
   "source": [
    "from qka.kernel_matrix import KernelMatrix\n",
    "from sklearn.svm import SVC\n",
    "from sklearn import metrics\n",
    "\n",
    "# Train the SVM with the aligned kernel matrix:\n",
    "\n",
    "kernel_aligned = result['aligned_kernel_matrix']\n",
    "model = SVC(C=C, kernel='precomputed')\n",
    "model.fit(X=kernel_aligned, y=y_train)\n",
    "\n",
    "# Test the SVM on new data:\n",
    "\n",
    "km = KernelMatrix(feature_map=fm, backend=backend)\n",
    "kernel_test = km.construct_kernel_matrix(x1_vec=x_test, x2_vec=x_train, parameters=result['aligned_kernel_parameters'])\n",
    "labels_test = model.predict(X=kernel_test)\n",
    "accuracy_test = metrics.balanced_accuracy_score(y_true=y_test, y_pred=labels_test)\n",
    "print(f\"accuracy test: {accuracy_test}\")"
   ]
  },
  {
   "cell_type": "code",
   "execution_count": 9,
   "metadata": {},
   "outputs": [
    {
     "data": {
      "text/html": [
       "<h3>Version Information</h3><table><tr><th>Qiskit Software</th><th>Version</th></tr><tr><td>Qiskit</td><td>0.25.0</td></tr><tr><td>Terra</td><td>0.17.0</td></tr><tr><td>Aer</td><td>0.8.0</td></tr><tr><td>Ignis</td><td>0.6.0</td></tr><tr><td>Aqua</td><td>0.9.0</td></tr><tr><td>IBM Q Provider</td><td>0.13.0</td></tr><tr><th>System information</th></tr><tr><td>Python</td><td>3.7.10 (default, Feb 26 2021, 10:16:00) \n",
       "[Clang 10.0.0 ]</td></tr><tr><td>OS</td><td>Darwin</td></tr><tr><td>CPUs</td><td>4</td></tr><tr><td>Memory (Gb)</td><td>16.0</td></tr><tr><td colspan='2'>Thu Apr 29 13:52:17 2021 EDT</td></tr></table>"
      ],
      "text/plain": [
       "<IPython.core.display.HTML object>"
      ]
     },
     "metadata": {},
     "output_type": "display_data"
    },
    {
     "data": {
      "text/html": [
       "<div style='width: 100%; background-color:#d5d9e0;padding-left: 10px; padding-bottom: 10px; padding-right: 10px; padding-top: 5px'><h3>This code is a part of Qiskit</h3><p>&copy; Copyright IBM 2017, 2021.</p><p>This code is licensed under the Apache License, Version 2.0. You may<br>obtain a copy of this license in the LICENSE.txt file in the root directory<br> of this source tree or at http://www.apache.org/licenses/LICENSE-2.0.<p>Any modifications or derivative works of this code must retain this<br>copyright notice, and modified files need to carry a notice indicating<br>that they have been altered from the originals.</p></div>"
      ],
      "text/plain": [
       "<IPython.core.display.HTML object>"
      ]
     },
     "metadata": {},
     "output_type": "display_data"
    }
   ],
   "source": [
    "import qiskit.tools.jupyter\n",
    "%qiskit_version_table\n",
    "%qiskit_copyright"
   ]
  },
  {
   "cell_type": "markdown",
   "metadata": {},
   "source": [
    "A version of this code for quantum kernel alignment will be made available through a Qiskit application module in the future.\n",
    "\n",
    "\n",
    "<span style=\"color:blue\">Do we need to add anything about copyrights, licensing, Qiskit versions, etc?</span>.\n"
   ]
  },
  {
   "cell_type": "code",
   "execution_count": null,
   "metadata": {},
   "outputs": [],
   "source": []
  }
 ],
 "metadata": {
  "kernelspec": {
   "display_name": "Python [conda env:qiskit0.25.0python3.7] *",
   "language": "python",
   "name": "conda-env-qiskit0.25.0python3.7-py"
  },
  "language_info": {
   "codemirror_mode": {
    "name": "ipython",
    "version": 3
   },
   "file_extension": ".py",
   "mimetype": "text/x-python",
   "name": "python",
   "nbconvert_exporter": "python",
   "pygments_lexer": "ipython3",
   "version": "3.7.10"
  }
 },
 "nbformat": 4,
 "nbformat_minor": 4
}
