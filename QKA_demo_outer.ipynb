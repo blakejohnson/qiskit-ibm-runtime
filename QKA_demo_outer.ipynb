{
 "cells": [
  {
   "cell_type": "code",
   "execution_count": 1,
   "metadata": {
    "slideshow": {
     "slide_type": "skip"
    }
   },
   "outputs": [],
   "source": [
    "import os\n",
    "os.environ[\"PYTHON_EXEC\"] = \"/Users/jessieyu/.pyenv/versions/qka-demo/bin/python3\"\n",
    "os.environ[\"NTC_DOC_FILE\"] = \"runtime/program_doc.json\"\n",
    "os.environ[\"NTC_PROGRAM_FILE\"] = \"runtime/qka_runtime_outer.py\""
   ]
  },
  {
   "cell_type": "markdown",
   "metadata": {
    "slideshow": {
     "slide_type": "slide"
    }
   },
   "source": [
    "# List available quantum programs"
   ]
  },
  {
   "cell_type": "code",
   "execution_count": 2,
   "metadata": {
    "slideshow": {
     "slide_type": "fragment"
    }
   },
   "outputs": [
    {
     "name": "stdout",
     "output_type": "stream",
     "text": [
      "==================================================\n",
      "Quantum-Kernel-Alignment:\n",
      "  Description: Quantum kernel alignment algorithm that learns, on a given dataset, a quantum kernel maximizing the SVM classification margin.\n",
      "  Parameters:\n",
      "    - feature_map:\n",
      "      Description: An instance of FeatureMapACME in dictionary format used to map classical data into a quantum state space.\n",
      "      Type: dict\n",
      "      Required: True\n",
      "    - data:\n",
      "      Description: NxD array of training data, where N is the number of samples and D is the feature dimension.\n",
      "      Type: numpy.ndarray\n",
      "      Required: True\n",
      "    - labels:\n",
      "      Description: Nx1 array of +/-1 labels of the N training samples.\n",
      "      Type: numpy.ndarray\n",
      "      Required: True\n",
      "    - initial_kernel_parameters:\n",
      "      Description: Initial parameters of the quantum kernel. If not specified, an array of randomly generated numbers is used.\n",
      "      Type: numpy.ndarray\n",
      "      Required: False\n",
      "    - maxiters:\n",
      "      Description: Number of SPSA optimization steps. Default is 10.\n",
      "      Type: int\n",
      "      Required: False\n",
      "    - C:\n",
      "      Description: Penalty parameter for the soft-margin support vector machine. Default is 1.\n",
      "      Type: float\n",
      "      Required: False\n",
      "  Returns:\n",
      "    - aligned_kernel_parameters:\n",
      "      Description: The optimized kernel parameters found from quantum kernel alignment.\n",
      "      Type: numpy.ndarray\n",
      "    - aligned_kernel_matrix:\n",
      "      Description: The aligned quantum kernel matrix evaluated with the optimized kernel parameters on the training data.\n",
      "      Type: numpy.ndarray\n",
      "==================================================\n",
      "Circuit-Runner:\n",
      "  Description: A runtime program that takes one or more circuits, compiles them, executes them on the selected backend, and returns the results.\n",
      "  Parameters:\n",
      "    - circuits:\n",
      "      Description: A circuit or a list of circuits to compile and execute.\n",
      "      Type: A QuantumCircuit or a list of QuantumCircuits.\n",
      "      Required: True\n",
      "    - initial_layout:\n",
      "      Description: Initial position of virtual qubits on physical qubits.\n",
      "      Type: dict or list\n",
      "      Required: False\n",
      "    - layout_method:\n",
      "      Description: Name of layout selection pass ('trivial', 'dense', 'noise_adaptive', 'sabre')\n",
      "      Type: string\n",
      "      Required: False\n",
      "    - routing_method:\n",
      "      Description: Name of routing pass ('basic', 'lookahead', 'stochastic', 'sabre').\n",
      "      Type: string\n",
      "      Required: False\n",
      "    - translation_method:\n",
      "      Description: Name of translation pass ('unroller', 'translator', 'synthesis').\n",
      "      Type: string\n",
      "      Required: False\n",
      "    - scheduling_method:\n",
      "      Description: Name of scheduling pass ('as_soon_as_possible', 'as_late_as_possible').\n",
      "      Type: string\n",
      "      Required: False\n",
      "    - instruction_durations:\n",
      "      Description: Durations of instructions.\n",
      "      Type: A list of tuples: [(instruction_name, qubits, duration, unit), ...].\n",
      "      Required: False\n",
      "    - dt:\n",
      "      Description: Backend sample time (resolution) in seconds.\n",
      "      Type: float\n",
      "      Required: False\n",
      "    - seed_transpiler:\n",
      "      Description: Sets random seed for the stochastic parts of the transpiler.\n",
      "      Type: int\n",
      "      Required: False\n",
      "    - optimization_level:\n",
      "      Description: How much optimization to perform on the circuits (0-3). Higher levels generate more optimized circuits. Default is 1.\n",
      "      Type: int\n",
      "      Required: False\n",
      "  Returns:\n",
      "    - results:\n",
      "      Description: Circuit execution results.\n",
      "      Type: qiskit.result.Result object\n"
     ]
    }
   ],
   "source": [
    "from qiskit import IBMQ\n",
    "\n",
    "provider = IBMQ.load_account()\n",
    "provider.runtime.programs()"
   ]
  },
  {
   "cell_type": "markdown",
   "metadata": {
    "slideshow": {
     "slide_type": "slide"
    }
   },
   "source": [
    "# Invoke Quantum Kernel Alignment program"
   ]
  },
  {
   "cell_type": "code",
   "execution_count": 3,
   "metadata": {
    "slideshow": {
     "slide_type": "fragment"
    }
   },
   "outputs": [],
   "source": [
    "import numpy as np\n",
    "from qiskit import Aer\n",
    "from qka.featuremaps import FeatureMapACME\n",
    "from oct2py import octave\n",
    "octave.addpath('/Users/jen/Q/code/quantum_kernel_data/')\n",
    "\n",
    "num_features=10  # number of features in the input data\n",
    "num_train=10     # number of training samples per class\n",
    "num_test=7       # number of test samples per class\n",
    "C=1              # SVM soft-margin penalty\n",
    "maxiters=21      # number of SPSA iterations\n",
    "\n",
    "entangler_map=[[0,1],[1,2],[2,3],[3,4],[4,5],[5,6],[6,7],[7,8],[8,9]]\n",
    "\n",
    "# Generate the data:\n",
    "state=42 # setting the state for the random number generator\n",
    "data_plus, data_minus = octave.generate_data(num_train+num_test, state, nout=2)\n",
    "\n",
    "x_train = np.concatenate((data_plus.T[:num_train], data_minus.T[:num_train]))\n",
    "y_train = np.concatenate((-1*np.ones(num_train), np.ones(num_train)))\n",
    "\n",
    "x_test = np.concatenate((data_plus.T[num_train:], data_minus.T[num_train:]))\n",
    "y_test = np.concatenate((-1*np.ones(num_test), np.ones(num_test)))\n",
    "\n",
    "# Define the feature map and its initial parameters:\n",
    "initial_kernel_parameters = [0.1] # np.pi/2 should yield 100% test accuracy\n",
    "fm = FeatureMapACME(feature_dimension=num_features, entangler_map=entangler_map)\n",
    "\n",
    "backend = provider.backend.ibmq_qasm_simulator"
   ]
  },
  {
   "cell_type": "code",
   "execution_count": 4,
   "metadata": {
    "slideshow": {
     "slide_type": "fragment"
    }
   },
   "outputs": [],
   "source": [
    "def interim_result_callback(interim_result):\n",
    "    print(f\"interim result: {interim_result}\\n\")"
   ]
  },
  {
   "cell_type": "code",
   "execution_count": 5,
   "metadata": {
    "slideshow": {
     "slide_type": "slide"
    }
   },
   "outputs": [
    {
     "name": "stdout",
     "output_type": "stream",
     "text": [
      "interim result: {'cost': 10.585411410548094, 'kernel_parameters': array([0.28922397])}\n",
      "\n",
      "interim result: {'cost': 9.482754041366878, 'kernel_parameters': array([0.55144409])}\n",
      "\n",
      "interim result: {'cost': 7.170261123846278, 'kernel_parameters': array([0.7874011])}\n",
      "\n",
      "interim result: {'cost': 5.2901342120561665, 'kernel_parameters': array([0.94536816])}\n",
      "\n",
      "interim result: {'cost': 4.278665316108828, 'kernel_parameters': array([1.05452627])}\n",
      "\n",
      "interim result: {'cost': 3.7185993231125707, 'kernel_parameters': array([1.1272473])}\n",
      "\n",
      "interim result: {'cost': 3.43303394550185, 'kernel_parameters': array([1.18390779])}\n",
      "\n",
      "interim result: {'cost': 3.2555699898088952, 'kernel_parameters': array([1.2251351])}\n",
      "\n",
      "interim result: {'cost': 3.1401744410551706, 'kernel_parameters': array([1.25626871])}\n",
      "\n",
      "interim result: {'cost': 3.0781005931677026, 'kernel_parameters': array([1.28121874])}\n",
      "\n",
      "interim result: {'cost': 3.0493159681810447, 'kernel_parameters': array([1.29932717])}\n",
      "\n",
      "interim result: {'cost': 2.998375863291555, 'kernel_parameters': array([1.31688929])}\n",
      "\n",
      "interim result: {'cost': 2.961070450823304, 'kernel_parameters': array([1.32833349])}\n",
      "\n",
      "interim result: {'cost': 2.9625330098055667, 'kernel_parameters': array([1.34125525])}\n",
      "\n",
      "interim result: {'cost': 2.940409296591114, 'kernel_parameters': array([1.35191929])}\n",
      "\n",
      "interim result: {'cost': 2.939171554295763, 'kernel_parameters': array([1.35938234])}\n",
      "\n",
      "interim result: {'cost': 2.923306541270239, 'kernel_parameters': array([1.36753745])}\n",
      "\n",
      "interim result: {'cost': 2.9175885404441972, 'kernel_parameters': array([1.3751509])}\n",
      "\n",
      "interim result: {'cost': 2.9036159966744663, 'kernel_parameters': array([1.38113179])}\n",
      "\n",
      "interim result: {'cost': 2.909333659032173, 'kernel_parameters': array([1.38783077])}\n",
      "\n",
      "interim result: {'cost': 2.8958447037424984, 'kernel_parameters': array([1.3921769])}\n",
      "\n"
     ]
    }
   ],
   "source": [
    "# Call QKA runtime program.\n",
    "runtime_params = {\n",
    "    'feature_map': fm.to_dict(),\n",
    "    'data': x_train,\n",
    "    'labels': y_train,\n",
    "    'initial_kernel_parameters': initial_kernel_parameters,\n",
    "    'maxiters': maxiters,\n",
    "    'C': C\n",
    "}\n",
    "options = {'backend_name': backend.name()}\n",
    "result = provider.runtime.run(program_name=\"Quantum-Kernel-Alignment\",\n",
    "                              options=options,\n",
    "                              params=runtime_params,\n",
    "                              callback=interim_result_callback,\n",
    "                             ).result()\n"
   ]
  },
  {
   "cell_type": "code",
   "execution_count": 6,
   "metadata": {},
   "outputs": [
    {
     "name": "stdout",
     "output_type": "stream",
     "text": [
      "final result:\n",
      "aligned_kernel_parameters: [1.39000383]\n",
      "aligned_kernel_matrix: [[1.         0.66223145 0.65759277 0.62219238 0.70458984 0.57116699\n",
      "  0.69287109 0.64807129 0.6237793  0.61425781 0.18359375 0.11657715\n",
      "  0.19873047 0.28173828 0.20043945 0.21569824 0.22705078 0.26098633\n",
      "  0.29650879 0.21252441]\n",
      " [0.66223145 1.         0.61047363 0.57861328 0.60180664 0.53442383\n",
      "  0.60412598 0.62182617 0.58227539 0.56481934 0.14306641 0.10534668\n",
      "  0.24035645 0.28308105 0.22009277 0.25805664 0.1998291  0.26928711\n",
      "  0.2244873  0.27746582]\n",
      " [0.65759277 0.61047363 1.         0.79003906 0.65710449 0.62084961\n",
      "  0.73828125 0.61535645 0.57165527 0.7010498  0.28601074 0.16650391\n",
      "  0.25537109 0.32495117 0.25695801 0.35900879 0.34460449 0.37890625\n",
      "  0.32958984 0.2947998 ]\n",
      " [0.62219238 0.57861328 0.79003906 1.         0.61010742 0.78100586\n",
      "  0.66906738 0.68835449 0.65222168 0.80981445 0.25024414 0.17004395\n",
      "  0.2590332  0.32775879 0.27355957 0.32189941 0.29980469 0.33190918\n",
      "  0.30895996 0.30249023]\n",
      " [0.70458984 0.60180664 0.65710449 0.61010742 1.         0.68579102\n",
      "  0.69348145 0.64709473 0.6796875  0.56835938 0.38098145 0.22937012\n",
      "  0.30456543 0.43554688 0.35925293 0.36853027 0.40649414 0.43811035\n",
      "  0.4864502  0.37255859]\n",
      " [0.57116699 0.53442383 0.62084961 0.78100586 0.68579102 1.\n",
      "  0.59399414 0.65319824 0.63500977 0.66955566 0.35131836 0.28942871\n",
      "  0.2878418  0.42663574 0.38830566 0.42578125 0.41040039 0.48864746\n",
      "  0.46069336 0.39599609]\n",
      " [0.69287109 0.60412598 0.73828125 0.66906738 0.69348145 0.59399414\n",
      "  1.         0.70422363 0.52905273 0.68151855 0.17675781 0.16638184\n",
      "  0.23620605 0.32739258 0.23181152 0.2668457  0.23547363 0.31921387\n",
      "  0.31298828 0.2545166 ]\n",
      " [0.64807129 0.62182617 0.61535645 0.68835449 0.64709473 0.65319824\n",
      "  0.70422363 1.         0.58911133 0.63208008 0.20080566 0.16796875\n",
      "  0.22155762 0.28637695 0.2166748  0.2232666  0.20361328 0.28674316\n",
      "  0.28894043 0.24230957]\n",
      " [0.6237793  0.58227539 0.57165527 0.65222168 0.6796875  0.63500977\n",
      "  0.52905273 0.58911133 1.         0.57922363 0.20959473 0.0760498\n",
      "  0.1463623  0.25646973 0.21984863 0.26538086 0.19067383 0.22949219\n",
      "  0.25463867 0.25183105]\n",
      " [0.61425781 0.56481934 0.7010498  0.80981445 0.56835938 0.66955566\n",
      "  0.68151855 0.63208008 0.57922363 1.         0.2052002  0.15136719\n",
      "  0.26757812 0.26074219 0.28393555 0.31616211 0.25634766 0.30212402\n",
      "  0.27380371 0.28393555]\n",
      " [0.18359375 0.14306641 0.28601074 0.25024414 0.38098145 0.35131836\n",
      "  0.17675781 0.20080566 0.20959473 0.2052002  1.         0.44104004\n",
      "  0.51245117 0.60717773 0.66027832 0.60058594 0.65234375 0.61767578\n",
      "  0.68469238 0.49194336]\n",
      " [0.11657715 0.10534668 0.16650391 0.17004395 0.22937012 0.28942871\n",
      "  0.16638184 0.16796875 0.0760498  0.15136719 0.44104004 1.\n",
      "  0.5447998  0.54797363 0.59643555 0.47619629 0.58398438 0.67871094\n",
      "  0.66271973 0.5222168 ]\n",
      " [0.19873047 0.24035645 0.25537109 0.2590332  0.30456543 0.2878418\n",
      "  0.23620605 0.22155762 0.1463623  0.26757812 0.51245117 0.5447998\n",
      "  1.         0.65686035 0.81030273 0.57324219 0.55053711 0.6138916\n",
      "  0.61096191 0.60644531]\n",
      " [0.28173828 0.28308105 0.32495117 0.32775879 0.43554688 0.42663574\n",
      "  0.32739258 0.28637695 0.25646973 0.26074219 0.60717773 0.54797363\n",
      "  0.65686035 1.         0.72363281 0.71069336 0.6151123  0.76245117\n",
      "  0.7310791  0.65600586]\n",
      " [0.20043945 0.22009277 0.25695801 0.27355957 0.35925293 0.38830566\n",
      "  0.23181152 0.2166748  0.21984863 0.28393555 0.66027832 0.59643555\n",
      "  0.81030273 0.72363281 1.         0.74645996 0.69726562 0.75695801\n",
      "  0.73681641 0.63842773]\n",
      " [0.21569824 0.25805664 0.35900879 0.32189941 0.36853027 0.42578125\n",
      "  0.2668457  0.2232666  0.26538086 0.31616211 0.60058594 0.47619629\n",
      "  0.57324219 0.71069336 0.74645996 1.         0.66027832 0.75390625\n",
      "  0.63842773 0.74304199]\n",
      " [0.22705078 0.1998291  0.34460449 0.29980469 0.40649414 0.41040039\n",
      "  0.23547363 0.20361328 0.19067383 0.25634766 0.65234375 0.58398438\n",
      "  0.55053711 0.6151123  0.69726562 0.66027832 1.         0.84106445\n",
      "  0.68286133 0.58544922]\n",
      " [0.26098633 0.26928711 0.37890625 0.33190918 0.43811035 0.48864746\n",
      "  0.31921387 0.28674316 0.22949219 0.30212402 0.61767578 0.67871094\n",
      "  0.6138916  0.76245117 0.75695801 0.75390625 0.84106445 1.\n",
      "  0.75354004 0.64135742]\n",
      " [0.29650879 0.2244873  0.32958984 0.30895996 0.4864502  0.46069336\n",
      "  0.31298828 0.28894043 0.25463867 0.27380371 0.68469238 0.66271973\n",
      "  0.61096191 0.7310791  0.73681641 0.63842773 0.68286133 0.75354004\n",
      "  1.         0.61010742]\n",
      " [0.21252441 0.27746582 0.2947998  0.30249023 0.37255859 0.39599609\n",
      "  0.2545166  0.24230957 0.25183105 0.28393555 0.49194336 0.5222168\n",
      "  0.60644531 0.65600586 0.63842773 0.74304199 0.58544922 0.64135742\n",
      "  0.61010742 1.        ]]\n"
     ]
    }
   ],
   "source": [
    "print(\"final result:\")\n",
    "print(f\"aligned_kernel_parameters: {result['aligned_kernel_parameters']}\")\n",
    "print(f\"aligned_kernel_matrix: {result['aligned_kernel_matrix']}\")"
   ]
  },
  {
   "cell_type": "markdown",
   "metadata": {
    "slideshow": {
     "slide_type": "slide"
    }
   },
   "source": [
    "# Test the aligned kernel"
   ]
  },
  {
   "cell_type": "code",
   "execution_count": 7,
   "metadata": {},
   "outputs": [],
   "source": [
    "os.environ[\"NTC_PROGRAM_FILE\"] = \"runtime/circuit_runner.py\""
   ]
  },
  {
   "cell_type": "code",
   "execution_count": 8,
   "metadata": {
    "slideshow": {
     "slide_type": "fragment"
    }
   },
   "outputs": [
    {
     "name": "stderr",
     "output_type": "stream",
     "text": [
      "/Users/jen/opt/anaconda3/envs/qiskit0.24.0python3.7/lib/python3.7/site-packages/qiskit/providers/ibmq/ibmqbackend.py:803: DeprecationWarning: Passing a Qobj to Backend.run is deprecated and will be removed in a future release. Please pass in circuits or pulse schedules instead.\n",
      "  noise_model=noise_model, **run_config)\n"
     ]
    },
    {
     "name": "stdout",
     "output_type": "stream",
     "text": [
      "accuracy test: 1.0\n"
     ]
    }
   ],
   "source": [
    "from qka.kernel_matrix import KernelMatrix\n",
    "from sklearn.svm import SVC\n",
    "from sklearn import metrics\n",
    "\n",
    "# Test the aligned kernel on test data:\n",
    "\n",
    "kernel_aligned = result['aligned_kernel_matrix']\n",
    "model = SVC(C=C, kernel='precomputed')\n",
    "model.fit(X=kernel_aligned, y=y_train)\n",
    "\n",
    "km = KernelMatrix(feature_map=fm, backend=backend)\n",
    "kernel_test = km.construct_kernel_matrix(x1_vec=x_test, x2_vec=x_train, parameters=result['aligned_kernel_parameters'])\n",
    "labels_test = model.predict(X=kernel_test)\n",
    "accuracy_test = metrics.balanced_accuracy_score(y_true=y_test, y_pred=labels_test)\n",
    "print(f\"accuracy test: {accuracy_test}\")"
   ]
  },
  {
   "cell_type": "code",
   "execution_count": null,
   "metadata": {},
   "outputs": [],
   "source": []
  }
 ],
 "metadata": {
  "celltoolbar": "Slideshow",
  "kernelspec": {
   "display_name": "Python [conda env:qiskit0.24.0python3.7] *",
   "language": "python",
   "name": "conda-env-qiskit0.24.0python3.7-py"
  },
  "language_info": {
   "codemirror_mode": {
    "name": "ipython",
    "version": 3
   },
   "file_extension": ".py",
   "mimetype": "text/x-python",
   "name": "python",
   "nbconvert_exporter": "python",
   "pygments_lexer": "ipython3",
   "version": "3.7.10"
  }
 },
 "nbformat": 4,
 "nbformat_minor": 4
}
