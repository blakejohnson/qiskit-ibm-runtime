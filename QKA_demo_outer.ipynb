{
 "cells": [
  {
   "cell_type": "code",
   "execution_count": 1,
   "metadata": {
    "slideshow": {
     "slide_type": "skip"
    }
   },
   "outputs": [],
   "source": [
    "import os\n",
    "os.environ[\"PYTHON_EXEC\"] = \"/Users/jessieyu/.pyenv/versions/qka-demo/bin/python3\"\n",
    "os.environ[\"NTC_DOC_FILE\"] = \"runtime/qka_doc.json\"\n",
    "os.environ[\"NTC_PROGRAM_FILE\"] = \"runtime/qka_runtime_outer.py\""
   ]
  },
  {
   "cell_type": "markdown",
   "metadata": {
    "slideshow": {
     "slide_type": "slide"
    }
   },
   "source": [
    "# List available quantum programs"
   ]
  },
  {
   "cell_type": "code",
   "execution_count": 2,
   "metadata": {
    "slideshow": {
     "slide_type": "fragment"
    }
   },
   "outputs": [
    {
     "name": "stdout",
     "output_type": "stream",
     "text": [
      "Runtime Program Quantum-Kernel-Alignment:\n",
      "  Description: Quantum kernel alignment algorithm that learns, on a given dataset, a quantum kernel maximizing the SVM classification margin.\n",
      "  Parameters:\n",
      "    feature_map:\n",
      "      description: An instance of FeatureMapForrelation in dictionary format used to map classical data into a quantum state space.\n",
      "      type: dict\n",
      "    data:\n",
      "      description: NxD array of training data, where N is the number of samples and D is the feature dimension.\n",
      "      type: numpy.ndarray\n",
      "    labels:\n",
      "      description: Nx1 array of +/-1 labels of the N training samples.\n",
      "      type: numpy.ndarray\n",
      "    lambda_initial:\n",
      "      description: Initial parameters of the quantum feature map.\n",
      "      type: numpy.ndarray\n",
      "    spsa_steps:\n",
      "      description: Number of SPSA optimization steps.\n",
      "      type: int\n",
      "    C:\n",
      "      description: Penalty parameter for the soft-margin support vector machine.\n",
      "      type: float\n",
      "  Returns:\n",
      "    aligned_kernel_parameters:\n",
      "      description: The optimized kernel parameters found from quantum kernel alignment.\n",
      "      type: numpy.ndarray\n",
      "    aligned_kernel_matrix:\n",
      "      description: The aligned quantum kernel matrix evaluated with the optimized kernel parameters on the training data.\n",
      "      type: numpy.ndarray\n"
     ]
    }
   ],
   "source": [
    "from qiskit import IBMQ\n",
    "\n",
    "provider = IBMQ.load_account()\n",
    "provider.runtime.programs()"
   ]
  },
  {
   "cell_type": "markdown",
   "metadata": {
    "slideshow": {
     "slide_type": "slide"
    }
   },
   "source": [
    "# Invoke Quantum Kernel Alignment program"
   ]
  },
  {
   "cell_type": "code",
   "execution_count": 3,
   "metadata": {
    "slideshow": {
     "slide_type": "fragment"
    }
   },
   "outputs": [],
   "source": [
    "import numpy as np\n",
    "from qka.featuremaps import FeatureMapForrelation\n",
    "\n",
    "num_samples=5  # number of samples per class in the input data\n",
    "num_features=2 # number of features in the input data\n",
    "depth=2        # depth of the feature map circuit\n",
    "C=1            # SVM soft-margin penalty\n",
    "spsa_steps=2   # number of SPSA iterations\n",
    "\n",
    "# Define the feature map and its initial parameters:\n",
    "fm = FeatureMapForrelation(feature_dimension=num_features, depth=depth, entangler_map=None)\n",
    "lambda_initial = np.random.uniform(-1,1, size=(fm._num_parameters))\n",
    "\n",
    "# create random test data and labels:\n",
    "x_train = np.random.rand(2*num_samples, num_features)\n",
    "y_train = np.concatenate((-1*np.ones(num_samples), np.ones(num_samples)))\n",
    "\n",
    "backend = provider.backend.ibmq_qasm_simulator"
   ]
  },
  {
   "cell_type": "code",
   "execution_count": 4,
   "metadata": {
    "slideshow": {
     "slide_type": "fragment"
    }
   },
   "outputs": [],
   "source": [
    "def interim_result_callback(interim_result):\n",
    "    print(f\"interim result: {interim_result}\\n\")"
   ]
  },
  {
   "cell_type": "code",
   "execution_count": 5,
   "metadata": {
    "slideshow": {
     "slide_type": "slide"
    }
   },
   "outputs": [
    {
     "name": "stdout",
     "output_type": "stream",
     "text": [
      "interim result: {'cost': 8.1525789395065, 'lambda': array([ 0.60879331,  0.0966291 ,  0.01985885, -0.14710885]), 'cost_plus': 7.995116904546321, 'cost_minus': 8.310040974466677, 'cost_final': 8.1525789395065}\n",
      "\n",
      "interim result: {'cost': 7.6847166025258975, 'lambda': array([ 0.69607475,  0.18391054, -0.06742259, -0.23439029]), 'cost_plus': 6.449514745412854, 'cost_minus': 8.919918459638941, 'cost_final': 7.6847166025258975}\n",
      "\n",
      "final result:\n",
      "aligned_kernel_parameters: [ 0.13048681  0.02805396 -0.00475637 -0.03814991]\n",
      "aligned_kernel_matrix: [[1.         0.36914062 0.31054688 0.93847656 0.47167969 0.87890625\n",
      "  0.65234375 0.25585938 0.75585938 0.4453125 ]\n",
      " [0.36914062 1.         0.09179688 0.265625   0.24804688 0.57324219\n",
      "  0.68652344 0.41894531 0.63476562 0.29296875]\n",
      " [0.31054688 0.09179688 1.         0.32617188 0.2109375  0.23535156\n",
      "  0.015625   0.52441406 0.04492188 0.20117188]\n",
      " [0.93847656 0.265625   0.32617188 1.         0.36035156 0.75976562\n",
      "  0.578125   0.16699219 0.69042969 0.32128906]\n",
      " [0.47167969 0.24804688 0.2109375  0.36035156 1.         0.66503906\n",
      "  0.18359375 0.36914062 0.26464844 0.92089844]\n",
      " [0.87890625 0.57324219 0.23535156 0.75976562 0.66503906 1.\n",
      "  0.64941406 0.41601562 0.6875     0.56738281]\n",
      " [0.65234375 0.68652344 0.015625   0.578125   0.18359375 0.64941406\n",
      "  1.         0.19726562 0.97949219 0.10449219]\n",
      " [0.25585938 0.41894531 0.52441406 0.16699219 0.36914062 0.41601562\n",
      "  0.19726562 1.         0.17089844 0.27050781]\n",
      " [0.75585938 0.63476562 0.04492188 0.69042969 0.26464844 0.6875\n",
      "  0.97949219 0.17089844 1.         0.15722656]\n",
      " [0.4453125  0.29296875 0.20117188 0.32128906 0.92089844 0.56738281\n",
      "  0.10449219 0.27050781 0.15722656 1.        ]]\n"
     ]
    }
   ],
   "source": [
    "# Call QKA runtime program.\n",
    "runtime_params = {\n",
    "    'feature_map': fm.to_dict(),\n",
    "    'data': x_train,\n",
    "    'labels': y_train,\n",
    "    'lambda_initial': lambda_initial,\n",
    "    'spsa_steps': 2,\n",
    "    'C': C\n",
    "}\n",
    "options = {'backend_name': backend.name()}\n",
    "result = provider.runtime.run(program_name=\"Quantum-Kernel-Alignment\",\n",
    "                              options=options,\n",
    "                              params=runtime_params,\n",
    "                              callback=interim_result_callback,\n",
    "                             ).result()\n",
    "print(\"final result:\")\n",
    "print(f\"aligned_kernel_parameters: {result['aligned_kernel_parameters']}\")\n",
    "print(f\"aligned_kernel_matrix: {result['aligned_kernel_matrix']}\")"
   ]
  }
 ],
 "metadata": {
  "celltoolbar": "Slideshow",
  "kernelspec": {
   "display_name": "Python 3",
   "language": "python",
   "name": "python3"
  },
  "language_info": {
   "codemirror_mode": {
    "name": "ipython",
    "version": 3
   },
   "file_extension": ".py",
   "mimetype": "text/x-python",
   "name": "python",
   "nbconvert_exporter": "python",
   "pygments_lexer": "ipython3",
   "version": "3.8.1"
  }
 },
 "nbformat": 4,
 "nbformat_minor": 4
}
