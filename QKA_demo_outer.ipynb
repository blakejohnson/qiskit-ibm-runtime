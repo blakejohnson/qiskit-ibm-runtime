{
 "cells": [
  {
   "cell_type": "code",
   "execution_count": null,
   "metadata": {
    "slideshow": {
     "slide_type": "fragment"
    }
   },
   "outputs": [],
   "source": [
    "from qiskit import IBMQ\n",
    "\n",
    "IBMQ.load_account()\n",
    "provider = IBMQ.get_provider(project='qiskit-runtime')\n",
    "backend = provider.get_backend('ibmq_montreal')"
   ]
  },
  {
   "cell_type": "markdown",
   "metadata": {
    "slideshow": {
     "slide_type": "slide"
    }
   },
   "source": [
    "# Invoke Quantum Kernel Alignment program"
   ]
  },
  {
   "cell_type": "code",
   "execution_count": 3,
   "metadata": {
    "slideshow": {
     "slide_type": "fragment"
    }
   },
   "outputs": [],
   "source": [
    "import numpy as np\n",
    "from qiskit import Aer\n",
    "from qka.featuremaps import FeatureMapACME\n",
    "from oct2py import octave\n",
    "octave.addpath('/Users/jen/Q/code/quantum_kernel_data/')\n",
    "\n",
    "num_features=10  # number of features in the input data\n",
    "num_train=10     # number of training samples per class\n",
    "num_test=7       # number of test samples per class\n",
    "C=1              # SVM soft-margin penalty\n",
    "maxiters=2      # number of SPSA iterations\n",
    "\n",
    "entangler_map=[[0,1],[1,2],[2,3],[3,4],[4,5],[5,6],[6,7],[7,8],[8,9]]\n",
    "\n",
    "# Generate the data:\n",
    "state=42 # setting the state for the random number generator\n",
    "data_plus, data_minus = octave.generate_data(num_train+num_test, state, nout=2)\n",
    "\n",
    "x_train = np.concatenate((data_plus.T[:num_train], data_minus.T[:num_train]))\n",
    "y_train = np.concatenate((-1*np.ones(num_train), np.ones(num_train)))\n",
    "\n",
    "x_test = np.concatenate((data_plus.T[num_train:], data_minus.T[num_train:]))\n",
    "y_test = np.concatenate((-1*np.ones(num_test), np.ones(num_test)))\n",
    "\n",
    "# Define the feature map and its initial parameters:\n",
    "initial_kernel_parameters = [0.1] # np.pi/2 should yield 100% test accuracy\n",
    "fm = FeatureMapACME(feature_dimension=num_features, entangler_map=entangler_map)"
   ]
  },
  {
   "cell_type": "code",
   "execution_count": 4,
   "metadata": {
    "slideshow": {
     "slide_type": "fragment"
    }
   },
   "outputs": [],
   "source": [
    "def interim_result_callback(job_id, interim_result):\n",
    "    print(f\"interim result: {interim_result}\\n\")"
   ]
  },
  {
   "cell_type": "code",
   "execution_count": 5,
   "metadata": {
    "slideshow": {
     "slide_type": "slide"
    }
   },
   "outputs": [
    {
     "name": "stdout",
     "output_type": "stream",
     "text": [
      "{\"post\": {\"cost\": 10.582195964673206, \"kernel_parameters\": {\"__type__\": \"array\", \"__value__\": [0.28058580667214217]}}}\n",
      "\n",
      "{\"post\": {\"cost\": 9.556517614535728, \"kernel_parameters\": {\"__type__\": \"array\", \"__value__\": [0.5368056491471374]}}}\n",
      "\n",
      "{\"results\": {\"aligned_kernel_parameters\": {\"__type__\": \"array\", \"__value__\": [0.5368056491471374]}, \"aligned_kernel_matrix\": {\"__type__\": \"array\", \"__value__\": [[1.0, 0.1722412109375, 0.2125244140625, 0.0589599609375, 0.219482421875, 0.053466796875, 0.063232421875, 0.013427734375, 0.2105712890625, 0.0445556640625, 0.4622802734375, 0.0858154296875, 0.146728515625, 0.0386962890625, 0.158447265625, 0.0509033203125, 0.03173828125, 0.0111083984375, 0.1683349609375, 0.027099609375], [0.1722412109375, 1.0, 0.060546875, 0.365478515625, 0.0408935546875, 0.141845703125, 0.0115966796875, 0.0550537109375, 0.0506591796875, 0.18603515625, 0.080322265625, 0.0379638671875, 0.03564453125, 0.015625, 0.03662109375, 0.0111083984375, 0.0096435546875, 0.0052490234375, 0.03125, 0.0111083984375], [0.2125244140625, 0.060546875, 1.0, 0.220703125, 0.0535888671875, 0.0157470703125, 0.2484130859375, 0.0552978515625, 0.06640625, 0.0174560546875, 0.1636962890625, 0.3031005859375, 0.042724609375, 0.1778564453125, 0.0299072265625, 0.1646728515625, 0.016357421875, 0.069580078125, 0.033203125, 0.1121826171875], [0.0589599609375, 0.365478515625, 0.220703125, 1.0, 0.0115966796875, 0.0692138671875, 0.0533447265625, 0.1954345703125, 0.0174560546875, 0.0640869140625, 0.0391845703125, 0.10205078125, 0.015869140625, 0.03955078125, 0.0108642578125, 0.0421142578125, 0.0042724609375, 0.0169677734375, 0.012451171875, 0.0394287109375], [0.219482421875, 0.0408935546875, 0.0535888671875, 0.0115966796875, 1.0, 0.197021484375, 0.18408203125, 0.0489501953125, 0.05126953125, 0.0123291015625, 0.17333984375, 0.031982421875, 0.0467529296875, 0.0150146484375, 0.04931640625, 0.0125732421875, 0.0203857421875, 0.0050048828125, 0.03466796875, 0.01123046875], [0.053466796875, 0.141845703125, 0.0157470703125, 0.0692138671875, 0.197021484375, 1.0, 0.0638427734375, 0.193115234375, 0.0196533203125, 0.0540771484375, 0.036376953125, 0.0067138671875, 0.013427734375, 0.002685546875, 0.0096435546875, 0.003662109375, 0.0028076171875, 0.000244140625, 0.0115966796875, 0.005615234375], [0.063232421875, 0.0115966796875, 0.2484130859375, 0.0533447265625, 0.18408203125, 0.0638427734375, 1.0, 0.203369140625, 0.0130615234375, 0.0045166015625, 0.0224609375, 0.083740234375, 0.0106201171875, 0.044677734375, 0.0096435546875, 0.04150390625, 0.003173828125, 0.011474609375, 0.00927734375, 0.016845703125], [0.013427734375, 0.0550537109375, 0.0552978515625, 0.1954345703125, 0.0489501953125, 0.193115234375, 0.203369140625, 1.0, 0.003662109375, 0.0186767578125, 0.0078125, 0.0223388671875, 0.003173828125, 0.0135498046875, 0.0035400390625, 0.0079345703125, 0.00146484375, 0.00390625, 0.00244140625, 0.001953125], [0.2105712890625, 0.0506591796875, 0.06640625, 0.0174560546875, 0.05126953125, 0.0196533203125, 0.0130615234375, 0.003662109375, 1.0, 0.1929931640625, 0.211669921875, 0.0291748046875, 0.042236328125, 0.0103759765625, 0.0352783203125, 0.007080078125, 0.012939453125, 0.003173828125, 0.053466796875, 0.016845703125], [0.0445556640625, 0.18603515625, 0.0174560546875, 0.0640869140625, 0.0123291015625, 0.0540771484375, 0.0045166015625, 0.0186767578125, 0.1929931640625, 1.0, 0.0335693359375, 0.0062255859375, 0.008544921875, 0.0028076171875, 0.012451171875, 0.0018310546875, 0.001708984375, 0.0006103515625, 0.010009765625, 0.003662109375], [0.4622802734375, 0.080322265625, 0.1636962890625, 0.0391845703125, 0.17333984375, 0.036376953125, 0.0224609375, 0.0078125, 0.211669921875, 0.0335693359375, 1.0, 0.197021484375, 0.185791015625, 0.0582275390625, 0.205810546875, 0.0557861328125, 0.0611572265625, 0.0159912109375, 0.2381591796875, 0.05712890625], [0.0858154296875, 0.0379638671875, 0.3031005859375, 0.10205078125, 0.031982421875, 0.0067138671875, 0.083740234375, 0.0223388671875, 0.0291748046875, 0.0062255859375, 0.197021484375, 1.0, 0.0994873046875, 0.175537109375, 0.1329345703125, 0.264892578125, 0.015869140625, 0.049072265625, 0.0736083984375, 0.2049560546875], [0.146728515625, 0.03564453125, 0.042724609375, 0.015869140625, 0.0467529296875, 0.013427734375, 0.0106201171875, 0.003173828125, 0.042236328125, 0.008544921875, 0.185791015625, 0.0994873046875, 1.0, 0.1978759765625, 0.0634765625, 0.010498046875, 0.17626953125, 0.05419921875, 0.0577392578125, 0.0115966796875], [0.0386962890625, 0.015625, 0.1778564453125, 0.03955078125, 0.0150146484375, 0.002685546875, 0.044677734375, 0.0135498046875, 0.0103759765625, 0.0028076171875, 0.0582275390625, 0.175537109375, 0.1978759765625, 1.0, 0.0137939453125, 0.058837890625, 0.046875, 0.2113037109375, 0.01611328125, 0.056884765625], [0.158447265625, 0.03662109375, 0.0299072265625, 0.0108642578125, 0.04931640625, 0.0096435546875, 0.0096435546875, 0.0035400390625, 0.0352783203125, 0.012451171875, 0.205810546875, 0.1329345703125, 0.0634765625, 0.0137939453125, 1.0, 0.2093505859375, 0.216796875, 0.0667724609375, 0.0606689453125, 0.0164794921875], [0.0509033203125, 0.0111083984375, 0.1646728515625, 0.0421142578125, 0.0125732421875, 0.003662109375, 0.04150390625, 0.0079345703125, 0.007080078125, 0.0018310546875, 0.0557861328125, 0.264892578125, 0.010498046875, 0.058837890625, 0.2093505859375, 1.0, 0.0596923828125, 0.2166748046875, 0.01171875, 0.053955078125], [0.03173828125, 0.0096435546875, 0.016357421875, 0.0042724609375, 0.0203857421875, 0.0028076171875, 0.003173828125, 0.00146484375, 0.012939453125, 0.001708984375, 0.0611572265625, 0.015869140625, 0.17626953125, 0.046875, 0.216796875, 0.0596923828125, 1.0, 0.223876953125, 0.0152587890625, 0.0035400390625], [0.0111083984375, 0.0052490234375, 0.069580078125, 0.0169677734375, 0.0050048828125, 0.000244140625, 0.011474609375, 0.00390625, 0.003173828125, 0.0006103515625, 0.0159912109375, 0.049072265625, 0.05419921875, 0.2113037109375, 0.0667724609375, 0.2166748046875, 0.223876953125, 1.0, 0.005126953125, 0.01025390625], [0.1683349609375, 0.03125, 0.033203125, 0.012451171875, 0.03466796875, 0.0115966796875, 0.00927734375, 0.00244140625, 0.053466796875, 0.010009765625, 0.2381591796875, 0.0736083984375, 0.0577392578125, 0.01611328125, 0.0606689453125, 0.01171875, 0.0152587890625, 0.005126953125, 1.0, 0.1983642578125], [0.027099609375, 0.0111083984375, 0.1121826171875, 0.0394287109375, 0.01123046875, 0.005615234375, 0.016845703125, 0.001953125, 0.016845703125, 0.003662109375, 0.05712890625, 0.2049560546875, 0.0115966796875, 0.056884765625, 0.0164794921875, 0.053955078125, 0.0035400390625, 0.01025390625, 0.1983642578125, 1.0]]}}}\n",
      "\n",
      "\n"
     ]
    }
   ],
   "source": [
    "# Call QKA runtime program.\n",
    "runtime_inputs = {\n",
    "    'feature_map': fm,\n",
    "    'data': x_train,\n",
    "    'labels': y_train,\n",
    "    'initial_kernel_parameters': initial_kernel_parameters,\n",
    "    'maxiters': maxiters,\n",
    "    'C': C\n",
    "}\n",
    "options = {'backend_name': backend.name()}\n",
    "result = provider.runtime.run(program_id=\"quantum-kernel-alignment\",\n",
    "                              options=options,\n",
    "                              inputs=runtime_inputs,\n",
    "                              callback=interim_result_callback,\n",
    "                              ).result()\n"
   ]
  },
  {
   "cell_type": "code",
   "execution_count": 7,
   "metadata": {},
   "outputs": [
    {
     "name": "stdout",
     "output_type": "stream",
     "text": [
      "final result:\n",
      "{}\n"
     ]
    },
    {
     "ename": "KeyError",
     "evalue": "'aligned_kernel_parameters'",
     "output_type": "error",
     "traceback": [
      "\u001b[0;31m---------------------------------------------------------------------------\u001b[0m",
      "\u001b[0;31mKeyError\u001b[0m                                  Traceback (most recent call last)",
      "\u001b[0;32m<ipython-input-7-120b2d7fc91e>\u001b[0m in \u001b[0;36m<module>\u001b[0;34m\u001b[0m\n\u001b[1;32m      1\u001b[0m \u001b[0mprint\u001b[0m\u001b[0;34m(\u001b[0m\u001b[0;34m\"final result:\"\u001b[0m\u001b[0;34m)\u001b[0m\u001b[0;34m\u001b[0m\u001b[0;34m\u001b[0m\u001b[0m\n\u001b[1;32m      2\u001b[0m \u001b[0mprint\u001b[0m\u001b[0;34m(\u001b[0m\u001b[0mresult\u001b[0m\u001b[0;34m)\u001b[0m\u001b[0;34m\u001b[0m\u001b[0;34m\u001b[0m\u001b[0m\n\u001b[0;32m----> 3\u001b[0;31m \u001b[0mprint\u001b[0m\u001b[0;34m(\u001b[0m\u001b[0;34mf\"aligned_kernel_parameters: {result['aligned_kernel_parameters']}\"\u001b[0m\u001b[0;34m)\u001b[0m\u001b[0;34m\u001b[0m\u001b[0;34m\u001b[0m\u001b[0m\n\u001b[0m\u001b[1;32m      4\u001b[0m \u001b[0mprint\u001b[0m\u001b[0;34m(\u001b[0m\u001b[0;34mf\"aligned_kernel_matrix: {result['aligned_kernel_matrix']}\"\u001b[0m\u001b[0;34m)\u001b[0m\u001b[0;34m\u001b[0m\u001b[0;34m\u001b[0m\u001b[0m\n",
      "\u001b[0;31mKeyError\u001b[0m: 'aligned_kernel_parameters'"
     ]
    }
   ],
   "source": [
    "print(\"final result:\")\n",
    "print(result)\n",
    "print(f\"aligned_kernel_parameters: {result['aligned_kernel_parameters']}\")\n",
    "print(f\"aligned_kernel_matrix: {result['aligned_kernel_matrix']}\")"
   ]
  },
  {
   "cell_type": "markdown",
   "metadata": {
    "slideshow": {
     "slide_type": "slide"
    }
   },
   "source": [
    "# Test the aligned kernel"
   ]
  },
  {
   "cell_type": "code",
   "execution_count": 8,
   "metadata": {
    "slideshow": {
     "slide_type": "fragment"
    }
   },
   "outputs": [
    {
     "name": "stderr",
     "output_type": "stream",
     "text": [
      "/Users/jen/opt/anaconda3/envs/qiskit0.24.0python3.7/lib/python3.7/site-packages/qiskit/providers/ibmq/ibmqbackend.py:803: DeprecationWarning: Passing a Qobj to Backend.run is deprecated and will be removed in a future release. Please pass in circuits or pulse schedules instead.\n",
      "  noise_model=noise_model, **run_config)\n"
     ]
    },
    {
     "name": "stdout",
     "output_type": "stream",
     "text": [
      "accuracy test: 1.0\n"
     ]
    }
   ],
   "source": [
    "from qka.kernel_matrix import KernelMatrix\n",
    "from sklearn.svm import SVC\n",
    "from sklearn import metrics\n",
    "\n",
    "# Test the aligned kernel on test data:\n",
    "\n",
    "kernel_aligned = result['aligned_kernel_matrix']\n",
    "model = SVC(C=C, kernel='precomputed')\n",
    "model.fit(X=kernel_aligned, y=y_train)\n",
    "\n",
    "km = KernelMatrix(feature_map=fm, backend=backend)\n",
    "kernel_test = km.construct_kernel_matrix(x1_vec=x_test, x2_vec=x_train, parameters=result['aligned_kernel_parameters'])\n",
    "labels_test = model.predict(X=kernel_test)\n",
    "accuracy_test = metrics.balanced_accuracy_score(y_true=y_test, y_pred=labels_test)\n",
    "print(f\"accuracy test: {accuracy_test}\")"
   ]
  },
  {
   "cell_type": "code",
   "execution_count": null,
   "metadata": {},
   "outputs": [],
   "source": []
  }
 ],
 "metadata": {
  "celltoolbar": "Slideshow",
  "kernelspec": {
   "display_name": "Python 3",
   "language": "python",
   "name": "python3"
  },
  "language_info": {
   "codemirror_mode": {
    "name": "ipython",
    "version": 3
   },
   "file_extension": ".py",
   "mimetype": "text/x-python",
   "name": "python",
   "nbconvert_exporter": "python",
   "pygments_lexer": "ipython3",
   "version": "3.8.1"
  }
 },
 "nbformat": 4,
 "nbformat_minor": 4
}
