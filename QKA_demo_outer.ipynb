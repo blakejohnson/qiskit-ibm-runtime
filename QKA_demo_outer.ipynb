{
 "cells": [
  {
   "cell_type": "code",
   "execution_count": 1,
   "metadata": {
    "slideshow": {
     "slide_type": "skip"
    }
   },
   "outputs": [],
   "source": [
    "import os\n",
    "os.environ[\"PYTHON_EXEC\"] = \"/Users/jessieyu/.pyenv/versions/qka-demo/bin/python3\"\n",
    "os.environ[\"NTC_DOC_FILE\"] = \"runtime/program_doc.json\"\n",
    "os.environ[\"NTC_PROGRAM_FILE\"] = \"runtime/qka_runtime_outer.py\""
   ]
  },
  {
   "cell_type": "markdown",
   "metadata": {
    "slideshow": {
     "slide_type": "slide"
    }
   },
   "source": [
    "# List available quantum programs"
   ]
  },
  {
   "cell_type": "code",
   "execution_count": 2,
   "metadata": {
    "slideshow": {
     "slide_type": "fragment"
    }
   },
   "outputs": [
    {
     "name": "stdout",
     "output_type": "stream",
     "text": [
      "==================================================\n",
      "\"Quantum-Kernel-Alignment\":\n",
      "  Description: Quantum kernel alignment algorithm that learns, on a given dataset, a quantum kernel maximizing the SVM classification margin.\n",
      "  Parameters:\n",
      "    - feature_map:\n",
      "      description: An instance of FeatureMapForrelation in dictionary format used to map classical data into a quantum state space.\n",
      "      type: dict\n",
      "    - data:\n",
      "      description: NxD array of training data, where N is the number of samples and D is the feature dimension.\n",
      "      type: numpy.ndarray\n",
      "    - labels:\n",
      "      description: Nx1 array of +/-1 labels of the N training samples.\n",
      "      type: numpy.ndarray\n",
      "    - lambda_initial:\n",
      "      description: Initial parameters of the quantum feature map.\n",
      "      type: numpy.ndarray\n",
      "    - spsa_steps:\n",
      "      description: Number of SPSA optimization steps.\n",
      "      type: int\n",
      "    - C:\n",
      "      description: Penalty parameter for the soft-margin support vector machine.\n",
      "      type: float\n",
      "  Returns:\n",
      "    - aligned_kernel_parameters:\n",
      "      description: The optimized kernel parameters found from quantum kernel alignment.\n",
      "      type: numpy.ndarray\n",
      "    - aligned_kernel_matrix:\n",
      "      description: The aligned quantum kernel matrix evaluated with the optimized kernel parameters on the training data.\n",
      "      type: numpy.ndarray\n"
     ]
    }
   ],
   "source": [
    "from qiskit import IBMQ\n",
    "\n",
    "provider = IBMQ.load_account()\n",
    "provider.runtime.programs()"
   ]
  },
  {
   "cell_type": "markdown",
   "metadata": {
    "slideshow": {
     "slide_type": "slide"
    }
   },
   "source": [
    "# Invoke Quantum Kernel Alignment program"
   ]
  },
  {
   "cell_type": "code",
   "execution_count": 3,
   "metadata": {
    "slideshow": {
     "slide_type": "fragment"
    }
   },
   "outputs": [],
   "source": [
    "import numpy as np\n",
    "from qka.featuremaps import FeatureMapForrelation\n",
    "\n",
    "num_samples=5  # number of samples per class in the input data\n",
    "num_features=2 # number of features in the input data\n",
    "depth=2        # depth of the feature map circuit\n",
    "C=1            # SVM soft-margin penalty\n",
    "spsa_steps=2   # number of SPSA iterations\n",
    "\n",
    "# Define the feature map and its initial parameters:\n",
    "fm = FeatureMapForrelation(feature_dimension=num_features, depth=depth, entangler_map=None)\n",
    "lambda_initial = np.random.uniform(-1,1, size=(fm._num_parameters))\n",
    "\n",
    "# create random test data and labels:\n",
    "x_train = np.random.rand(2*num_samples, num_features)\n",
    "y_train = np.concatenate((-1*np.ones(num_samples), np.ones(num_samples)))\n",
    "\n",
    "backend = provider.backend.ibmq_qasm_simulator"
   ]
  },
  {
   "cell_type": "code",
   "execution_count": 4,
   "metadata": {
    "slideshow": {
     "slide_type": "fragment"
    }
   },
   "outputs": [],
   "source": [
    "def interim_result_callback(interim_result):\n",
    "    print(f\"interim result: {interim_result}\\n\")"
   ]
  },
  {
   "cell_type": "code",
   "execution_count": 5,
   "metadata": {
    "slideshow": {
     "slide_type": "slide"
    }
   },
   "outputs": [
    {
     "name": "stdout",
     "output_type": "stream",
     "text": [
      "interim result: {'cost': 9.106444548790133, 'lambda': array([-0.0447036 , -0.37925792, -0.74788606, -0.17385893]), 'cost_plus': 8.799803610124869, 'cost_minus': 9.413085487455398, 'cost_final': 9.106444548790133}\n",
      "\n",
      "interim result: {'cost': 8.806637216266033, 'lambda': array([ 0.01195016, -0.32260415, -0.80453982, -0.23051269]), 'cost_plus': 8.004876494927007, 'cost_minus': 9.60839793760506, 'cost_final': 8.806637216266033}\n",
      "\n"
     ]
    }
   ],
   "source": [
    "# Call QKA runtime program.\n",
    "runtime_params = {\n",
    "    'feature_map': fm.to_dict(),\n",
    "    'data': x_train,\n",
    "    'labels': y_train,\n",
    "    'lambda_initial': lambda_initial,\n",
    "    'spsa_steps': 2,\n",
    "    'C': C\n",
    "}\n",
    "options = {'backend_name': backend.name()}\n",
    "result = provider.runtime.run(program_name=\"Quantum-Kernel-Alignment\",\n",
    "                              options=options,\n",
    "                              params=runtime_params,\n",
    "                              callback=interim_result_callback,\n",
    "                             ).result()\n"
   ]
  },
  {
   "cell_type": "code",
   "execution_count": 6,
   "metadata": {},
   "outputs": [
    {
     "name": "stdout",
     "output_type": "stream",
     "text": [
      "final result:\n",
      "aligned_kernel_parameters: [-0.00327534 -0.07018621 -0.15524259 -0.04043716]\n",
      "aligned_kernel_matrix: [[1.         0.16015625 0.02148438 0.96777344 0.86816406 0.73144531\n",
      "  0.88378906 0.25292969 0.72265625 0.09765625]\n",
      " [0.16015625 1.         0.23925781 0.22851562 0.39648438 0.390625\n",
      "  0.45703125 0.12109375 0.57324219 0.10742188]\n",
      " [0.02148438 0.23925781 1.         0.03515625 0.0390625  0.11035156\n",
      "  0.03613281 0.04296875 0.04589844 0.72851562]\n",
      " [0.96777344 0.22851562 0.03515625 1.         0.8984375  0.83398438\n",
      "  0.90722656 0.26855469 0.85058594 0.05566406]\n",
      " [0.86816406 0.39648438 0.0390625  0.8984375  1.         0.96289062\n",
      "  0.95703125 0.25195312 0.96972656 0.00878906]\n",
      " [0.73144531 0.390625   0.11035156 0.83398438 0.96289062 1.\n",
      "  0.84960938 0.28808594 0.9140625  0.02734375]\n",
      " [0.88378906 0.45703125 0.03613281 0.90722656 0.95703125 0.84960938\n",
      "  1.         0.28125    0.95410156 0.06152344]\n",
      " [0.25292969 0.12109375 0.04296875 0.26855469 0.25195312 0.28808594\n",
      "  0.28125    1.         0.23339844 0.01757812]\n",
      " [0.72265625 0.57324219 0.04589844 0.85058594 0.96972656 0.9140625\n",
      "  0.95410156 0.23339844 1.         0.00878906]\n",
      " [0.09765625 0.10742188 0.72851562 0.05566406 0.00878906 0.02734375\n",
      "  0.06152344 0.01757812 0.00878906 1.        ]]\n"
     ]
    }
   ],
   "source": [
    "print(\"final result:\")\n",
    "print(f\"aligned_kernel_parameters: {result['aligned_kernel_parameters']}\")\n",
    "print(f\"aligned_kernel_matrix: {result['aligned_kernel_matrix']}\")"
   ]
  },
  {
   "cell_type": "markdown",
   "metadata": {
    "slideshow": {
     "slide_type": "slide"
    }
   },
   "source": [
    "# Test the aligned kernel"
   ]
  },
  {
   "cell_type": "code",
   "execution_count": 7,
   "metadata": {},
   "outputs": [],
   "source": [
    "os.environ[\"NTC_PROGRAM_FILE\"] = \"runtime/circuit_runner.py\""
   ]
  },
  {
   "cell_type": "code",
   "execution_count": 8,
   "metadata": {
    "slideshow": {
     "slide_type": "fragment"
    }
   },
   "outputs": [
    {
     "name": "stderr",
     "output_type": "stream",
     "text": [
      "/Users/jessieyu/.pyenv/versions/3.8.1/envs/qka-demo/lib/python3.8/site-packages/qiskit/circuit/quantumcircuit.py:867: DeprecationWarning: The QuantumCircuit.extend() method is being deprecated. Use the compose() (potentially with the inplace=True argument) and tensor() methods which are more flexible w.r.t circuit register compatibility.\n",
      "  return self.extend(rhs)\n"
     ]
    },
    {
     "name": "stdout",
     "output_type": "stream",
     "text": [
      "accuracy test: 0.4\n"
     ]
    }
   ],
   "source": [
    "from qka.kernel_matrix import KernelMatrix\n",
    "from sklearn.svm import SVC\n",
    "from sklearn import metrics\n",
    "\n",
    "# Test the aligned kernel on test data:\n",
    "\n",
    "x_test = np.random.rand(2*num_samples, num_features)\n",
    "y_test = np.concatenate((-1*np.ones(num_samples), np.ones(num_samples)))\n",
    "\n",
    "kernel_aligned = result['aligned_kernel_matrix']\n",
    "model = SVC(C=C, kernel='precomputed')\n",
    "model.fit(X=kernel_aligned, y=y_train)\n",
    "\n",
    "km = KernelMatrix(feature_map=fm, backend=backend)\n",
    "kernel_test = km.construct_kernel_matrix(x1_vec=x_test, x2_vec=x_train, parameters=result['aligned_kernel_parameters'])\n",
    "labels_test = model.predict(X=kernel_test)\n",
    "accuracy_test = metrics.balanced_accuracy_score(y_true=y_test, y_pred=labels_test)\n",
    "print(f\"accuracy test: {accuracy_test}\")"
   ]
  },
  {
   "cell_type": "code",
   "execution_count": null,
   "metadata": {},
   "outputs": [],
   "source": []
  }
 ],
 "metadata": {
  "celltoolbar": "Slideshow",
  "kernelspec": {
   "display_name": "Python 3",
   "language": "python",
   "name": "python3"
  },
  "language_info": {
   "codemirror_mode": {
    "name": "ipython",
    "version": 3
   },
   "file_extension": ".py",
   "mimetype": "text/x-python",
   "name": "python",
   "nbconvert_exporter": "python",
   "pygments_lexer": "ipython3",
   "version": "3.8.1"
  }
 },
 "nbformat": 4,
 "nbformat_minor": 4
}
