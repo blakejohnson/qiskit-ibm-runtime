{
 "cells": [
  {
   "cell_type": "code",
   "execution_count": 1,
   "metadata": {},
   "outputs": [],
   "source": [
    "import os\n",
    "os.environ[\"PYTHON_EXEC\"] = \"/Users/jessieyu/.pyenv/versions/qka-demo/bin/python3\"\n",
    "os.environ[\"NTC_DOC_FILE\"] = \"runtime/qka_doc.json\"\n",
    "os.environ[\"NTC_PROGRAM_FILE\"] = \"runtime/qka_runtime_outer.py\""
   ]
  },
  {
   "cell_type": "code",
   "execution_count": 2,
   "metadata": {},
   "outputs": [],
   "source": [
    "from qiskit import IBMQ"
   ]
  },
  {
   "cell_type": "code",
   "execution_count": 3,
   "metadata": {},
   "outputs": [],
   "source": [
    "provider = IBMQ.load_account()"
   ]
  },
  {
   "cell_type": "code",
   "execution_count": 4,
   "metadata": {},
   "outputs": [
    {
     "name": "stdout",
     "output_type": "stream",
     "text": [
      "Runtime Program Quantum-Kernel-Alignment:\n",
      "  Description: Quantum kernel alignment algorithm that learns, on a given dataset, a quantum kernel maximizing the SVM classification margin.\n",
      "  Parameters:\n",
      "    feature_map:\n",
      "      description: An instance of FeatureMapForrelation in dictionary format used to map classical data into a quantum state space.\n",
      "      type: dict\n",
      "    data:\n",
      "      description: NxD array of training data, where N is the number of samples and D is the feature dimension.\n",
      "      type: numpy.ndarray\n",
      "    labels:\n",
      "      description: Nx1 array of +/-1 labels of the N training samples.\n",
      "      type: numpy.ndarray\n",
      "    lambda_initial:\n",
      "      description: Initial parameters of the quantum feature map.\n",
      "      type: numpy.ndarray\n",
      "    spsa_steps:\n",
      "      description: Number of SPSA optimization steps.\n",
      "      type: int\n",
      "    C:\n",
      "      description: Penalty parameter for the soft-margin support vector machine.\n",
      "      type: float\n",
      "  Returns:\n",
      "    best_kernel_parameters:\n",
      "      description: The optimized kernel parameters found from quantum kernel alignment.\n",
      "      type: numpy.ndarray\n",
      "    best_kernel_matrix:\n",
      "      description: The aligned quantum kernel matrix evaluated with the optimized kernel parameters on the training data.\n",
      "      type: numpy.ndarray\n"
     ]
    }
   ],
   "source": [
    "provider.runtime.programs()"
   ]
  },
  {
   "cell_type": "code",
   "execution_count": 5,
   "metadata": {},
   "outputs": [],
   "source": [
    "import numpy as np\n",
    "from qka.featuremaps import FeatureMapForrelation\n",
    "\n",
    "num_samples=5  # number of samples per class in the input data\n",
    "num_features=2 # number of features in the input data\n",
    "depth=2        # depth of the feature map circuit\n",
    "C=1            # SVM soft-margin penalty\n",
    "spsa_steps=2   # number of SPSA iterations\n",
    "\n",
    "# Define the feature map and its initial parameters:\n",
    "fm = FeatureMapForrelation(feature_dimension=num_features, depth=depth, entangler_map=None)\n",
    "lambda_initial = np.random.uniform(-1,1, size=(fm._num_parameters))\n",
    "\n",
    "# create random test data and labels:\n",
    "x_train = np.random.rand(2*num_samples, num_features)\n",
    "y_train = np.concatenate((-1*np.ones(num_samples), np.ones(num_samples)))\n",
    "\n",
    "backend = provider.backend.ibmq_qasm_simulator"
   ]
  },
  {
   "cell_type": "code",
   "execution_count": 6,
   "metadata": {},
   "outputs": [],
   "source": [
    "def interim_result_callback(interim_result):\n",
    "    print(f\"interim result: {interim_result}\\n\")"
   ]
  },
  {
   "cell_type": "code",
   "execution_count": 7,
   "metadata": {},
   "outputs": [
    {
     "name": "stdout",
     "output_type": "stream",
     "text": [
      "interim result: {'cost': 7.489755896607097, 'lambda': array([-0.9538571 , -0.80595599, -0.56554543,  0.03199335]), 'cost_plus': 7.2111320834159365, 'cost_minus': 7.768379709798256, 'cost_final': 7.489755896607097}\n",
      "\n",
      "interim result: {'cost': 7.391245631532837, 'lambda': array([-0.95825878, -0.81035767, -0.56114375,  0.03639503]), 'cost_plus': 7.453537990927787, 'cost_minus': 7.328953272137888, 'cost_final': 7.391245631532837}\n",
      "\n",
      "final result:\n",
      "aligned_kernel_parameters: [-0.19121159 -0.16163137 -0.11266892  0.00683884]\n",
      "aligned_kernel_matrix: [[1.         0.359375   0.11621094 0.52929688 0.07226562 0.07519531\n",
      "  0.31835938 0.01074219 0.15234375 0.37011719]\n",
      " [0.359375   1.         0.1328125  0.86132812 0.73632812 0.25390625\n",
      "  0.125      0.125      0.10058594 0.95214844]\n",
      " [0.11621094 0.1328125  1.         0.0390625  0.41601562 0.2890625\n",
      "  0.80859375 0.40917969 0.99414062 0.06445312]\n",
      " [0.52929688 0.86132812 0.0390625  1.         0.47167969 0.03808594\n",
      "  0.09960938 0.00292969 0.0234375  0.8125    ]\n",
      " [0.07226562 0.73632812 0.41601562 0.47167969 1.         0.52441406\n",
      "  0.43945312 0.34082031 0.35644531 0.73339844]\n",
      " [0.07519531 0.25390625 0.2890625  0.03808594 0.52441406 1.\n",
      "  0.12792969 0.72070312 0.21972656 0.29492188]\n",
      " [0.31835938 0.125      0.80859375 0.09960938 0.43945312 0.12792969\n",
      "  1.         0.17578125 0.86328125 0.08105469]\n",
      " [0.01074219 0.125      0.40917969 0.00292969 0.34082031 0.72070312\n",
      "  0.17578125 1.         0.33691406 0.16113281]\n",
      " [0.15234375 0.10058594 0.99414062 0.0234375  0.35644531 0.21972656\n",
      "  0.86328125 0.33691406 1.         0.06152344]\n",
      " [0.37011719 0.95214844 0.06445312 0.8125     0.73339844 0.29492188\n",
      "  0.08105469 0.16113281 0.06152344 1.        ]]\n"
     ]
    }
   ],
   "source": [
    "# Call QKA runtime program.\n",
    "runtime_params = {\n",
    "    'feature_map': fm.to_dict(),\n",
    "    'data': x_train,\n",
    "    'labels': y_train,\n",
    "    'lambda_initial': lambda_initial,\n",
    "    'spsa_steps': 2,\n",
    "    'C': C\n",
    "}\n",
    "result = provider.runtime.run(program_name=\"Quantum-Kernel-Alignment\",\n",
    "                              backend=backend,\n",
    "                              params=runtime_params,\n",
    "                              callback=interim_result_callback,\n",
    "                             ).result()\n",
    "print(\"final result:\")\n",
    "print(f\"aligned_kernel_parameters: {result['aligned_kernel_parameters']}\")\n",
    "print(f\"aligned_kernel_matrix: {result['aligned_kernel_matrix']}\")"
   ]
  },
  {
   "cell_type": "code",
   "execution_count": null,
   "metadata": {},
   "outputs": [],
   "source": []
  }
 ],
 "metadata": {
  "kernelspec": {
   "display_name": "Python 3",
   "language": "python",
   "name": "python3"
  },
  "language_info": {
   "codemirror_mode": {
    "name": "ipython",
    "version": 3
   },
   "file_extension": ".py",
   "mimetype": "text/x-python",
   "name": "python",
   "nbconvert_exporter": "python",
   "pygments_lexer": "ipython3",
   "version": "3.8.1"
  }
 },
 "nbformat": 4,
 "nbformat_minor": 4
}
