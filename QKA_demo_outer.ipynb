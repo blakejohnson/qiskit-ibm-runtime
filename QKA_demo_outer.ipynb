{
 "cells": [
  {
   "cell_type": "markdown",
   "metadata": {},
   "source": [
    "# Quantum Kernel Alignment with Qiskit Runtime\n",
    "\n",
    "#### Classification with Support Vector Machines\n",
    "Classification problems are widespread in machine learning applications. A common method for tackling these problems is the support vector machine (SVM) [1,2]. This supervised learning algorithm uses labeled training samples to find an optimal separating hyperplane between data classes in order to predict the labels of new data points. Often, data is not linearly separable in the original space. In these cases, the kernel trick is used to implicitly encode a transformation of the data into a higher-dimensional feature space through the inner product between pairs of data points, where the data may become separable.\n",
    "\n",
    "#### Quantum Kernels\n",
    "Quantum computers can be used to encode classical data in a quantum-enhanced feature space. In 2019, IBM introduced a quantum algorithm called the quantum kernel estimator (QKE), which uses quantum circuits to evaluate inner products between data points in the quantum feature space [3]. More recently, IBM proved, on certain learning problems, quantum kernels can offer superpolynomial speedups over any classical learner [4]. This means that quantum kernels can someday offer quantum advantage on suitable problems. \n",
    "\n",
    "#### Learning Quantum Kernels for a Dataset\n",
    "In practice, SVMs require a choice of the kernel function. Sometimes, symmetries in the data can inform this selection, other times it is chosen in an ad hoc way. Kernel alignment is one approach to learning a kernel on a given dataset by iteratively adapting it to have high similarity to a target kernel informed from the underlying data distribution [5]. As a result, the SVM with an aligned kernel will likely generalize better to new data than with an unaligned kernel. Using this concept, we introduce quantum kernel alignment (QKA), which is a new algorithm for learning a quantum kernel that maximizes the alignment while converging to the maximum SVM margin [6]. \n",
    "\n",
    "#### Speeding up Quantum Algorithms with Qiskit Runtime\n",
    "QKA is an iterative quantum-classical algorithm, in which quantum hardware executes parametrized quantum circuits (which are used to compute the quantum kernel matrices according to the QKE), while a classical optimizer tunes the parameters of the circuits to maximize the alignment. Iterative algorithms of this type can be slow due to latency between the quantum and classical calculations. Qiskit Runtime is a new framework (?) that can speed up iterative algorithms like QKA by pushing the classical computations into the cloud near (?) the quantum hardware. <span style=\"color:blue\">TODO: add more details here on how runtime can help QKA run faster...</span>.\n",
    "\n",
    "#### Trying This Out on a Specific Learning Problem\n",
    "<span style=\"color:blue\">TODO: discuss the specific problem we are solving... In this tutorial, we define a particular learning problem we call ... Define our state parametrization; $\\pi/2$ should yield 100% test accuracy</span>.\n",
    "\n",
    "\n",
    "<br>\n",
    "The topology of Montreal:\n",
    "<br>\n",
    "\n",
    "<img src=\"qka/aux_files/chip.png\" width=\"500\">\n",
    "\n",
    "<br>\n",
    "Example problem graphs of 7 and 10 qubits:\n",
    "<br>\n",
    "<img src=\"qka/aux_files/subgraphs.png\" width=\"550\">\n",
    "<br>\n",
    "\n",
    "\n",
    "\n",
    "[1] B. E. Boser, I. M. Guyon,  and V. N. Vapnik, Proceedings of the Fifth Annual Workshop on Computational Learning Theory, COLT ’92 (Association for Computing Machinery, New York, NY, USA, 1992) pp. 144-152 [link](https://doi.org/10.1145/130385.130401) <br>\n",
    "[2] V. Vapnik, The Nature of Statistical Learning Theory, Information Science and Statistics (Springer New York, 2013) [link](https://books.google.com/books?id=EqgACAAAQBAJ) <br>\n",
    "[3] V. Havlíček, A. D. Córcoles, K. Temme, A. W. Harrow, A. Kandala, J. M. Chow, and J. M. Gambetta, Nature 567, 209-212 (2019) [link](https://doi.org/10.1038/s41586-019-0980-2) <br>\n",
    "[4] Y. Liu, S. Arunachalam, and K. Temme, arXiv:2010.02174 (2020) [link](https://arxiv.org/abs/2010.02174) <br>\n",
    "[5] N. Cristianini, J. Shawe-taylor, A. Elisseeff, and J. Kandola, Advances in Neural Information Processing Systems 14 (2001) [link](https://proceedings.neurips.cc/paper/2001/file/1f71e393b3809197ed66df836fe833e5-Paper.pdf) <br>\n",
    "[6] Our ref - forthcoming..."
   ]
  },
  {
   "cell_type": "markdown",
   "metadata": {},
   "source": [
    "# Load your IBM Quantum account and get the quantum backend\n",
    "\n",
    "We'll be using the 27-qubit backend `ibmq_montreal` for this tutorial."
   ]
  },
  {
   "cell_type": "code",
   "execution_count": 1,
   "metadata": {
    "slideshow": {
     "slide_type": "fragment"
    }
   },
   "outputs": [],
   "source": [
    "from qiskit import IBMQ\n",
    "\n",
    "IBMQ.load_account()\n",
    "provider = IBMQ.get_provider(project='qiskit-runtime')\n",
    "backend = provider.get_backend('ibmq_montreal')"
   ]
  },
  {
   "cell_type": "code",
   "execution_count": 3,
   "metadata": {},
   "outputs": [
    {
     "name": "stdout",
     "output_type": "stream",
     "text": [
      "quantum-kernel-alignment\n"
     ]
    }
   ],
   "source": [
    "# TODO: remove this once notebook is finalized!\n",
    "\n",
    "# Delete a program.\n",
    "provider.runtime.delete_program(program_id='quantum-kernel-alignment')\n",
    "\n",
    "# Upload a new runtime program.\n",
    "program_id = provider.runtime.upload_program(\n",
    "    name='quantum-kernel-alignment', \n",
    "    data='runtime/qka_runtime_outer.py', \n",
    "    max_execution_time=86400)\n",
    "print(program_id)"
   ]
  },
  {
   "cell_type": "markdown",
   "metadata": {},
   "source": [
    "# Invoke Quantum Kernel Alignment program\n",
    "\n",
    "Before running the Runtime Program for QKA, we'll need to prepare the dataset and configure the settings for the algorithm.\n",
    "\n",
    "## 1. Prepare the dataset\n",
    "\n",
    "First, we load the dataset from the `csv` file and then extract the training the testing samples."
   ]
  },
  {
   "cell_type": "code",
   "execution_count": 2,
   "metadata": {},
   "outputs": [],
   "source": [
    "import numpy as np\n",
    "import pandas as pd\n",
    "\n",
    "# load the dataset\n",
    "\n",
    "df = pd.read_csv('qka/aux_files/dataset_graph7.csv',sep=',', header=None) # alterative problem dataset_graph10.csv\n",
    "data = df.values\n",
    "\n",
    "# specify the training and testing sets\n",
    "\n",
    "num_train = 10 # number of training samples per class\n",
    "num_test = 10  # number of test samples per class\n",
    "\n",
    "x_train = data[:2*num_train, :-1]\n",
    "y_train = data[:2*num_train, -1]\n",
    "\n",
    "x_test = data[2*num_train:2*(num_train+num_test), :-1]\n",
    "y_test = data[2*num_train:2*(num_train+num_test), -1]"
   ]
  },
  {
   "cell_type": "markdown",
   "metadata": {},
   "source": [
    "## 2. Configure the settings for QKA"
   ]
  },
  {
   "cell_type": "code",
   "execution_count": 4,
   "metadata": {
    "slideshow": {
     "slide_type": "fragment"
    }
   },
   "outputs": [],
   "source": [
    "from qiskit import Aer\n",
    "from qka.featuremaps import FeatureMapACME\n",
    "\n",
    "# Define the feature map:\n",
    "num_features = np.shape(data)[1]-1                   # feature dimension is twice the qubit number\n",
    "entangler_map=[[0,2],[3,4],[2,5],[1,4],[2,3],[4,6]]  # Define the entangler map to match the problem graph:               \n",
    "# entangler_map=[[0,1],[2,3],[4,5],[6,7],[8,9],[1,2],[3,4],[5,6],[7,8]] \n",
    "fm = FeatureMapACME(feature_dimension=num_features, entangler_map=entangler_map)\n",
    "\n",
    "# Set the remaining algorithm parameters:\n",
    "C = 1                 # SVM soft-margin penalty\n",
    "maxiters = 2          # number of SPSA iterations\n",
    "initial_point = [0.1] # initial parameters for the feature map\n",
    "\n",
    "# Set the mapping from virtual to physical qubits to match the problem graph:\n",
    "initial_layout = [10, 11, 12, 13, 14, 15, 16]                           # see figure above for the 7-qubit graph\n",
    "# initial_layout = [9, 8, 11, 14, 16, 19, 22, 25, 24, 23]               # see figure above for the 10-qubit graph\n"
   ]
  },
  {
   "cell_type": "markdown",
   "metadata": {},
   "source": [
    "## 3. Set up and run the Runtime Program\n",
    "\n",
    "There are two main components we'll need to set up for our Runtime Program: `inputs` (the feature map, labeled dataset, optimizer settings, etc) and `options` (the backend). Once these are specified, we'll run the Program on the quantum backend."
   ]
  },
  {
   "cell_type": "code",
   "execution_count": 5,
   "metadata": {
    "slideshow": {
     "slide_type": "fragment"
    }
   },
   "outputs": [],
   "source": [
    "def interim_result_callback(job_id, interim_result):\n",
    "    print(f\"interim result: {interim_result}\\n\")"
   ]
  },
  {
   "cell_type": "code",
   "execution_count": 6,
   "metadata": {
    "scrolled": false,
    "slideshow": {
     "slide_type": "slide"
    }
   },
   "outputs": [
    {
     "name": "stdout",
     "output_type": "stream",
     "text": [
      "c2834njfos5m03h432d0\n",
      "interim result: {'cost': 11.049993446092692, 'kernel_parameters': array([0.25000106])}\n",
      "\n",
      "interim result: {'cost': 10.425389914581778, 'kernel_parameters': array([0.40758418])}\n",
      "\n"
     ]
    }
   ],
   "source": [
    "# Call QKA runtime program.\n",
    "runtime_inputs = {\n",
    "    'feature_map': fm,\n",
    "    'data': x_train,\n",
    "    'labels': y_train,\n",
    "    'initial_kernel_parameters': initial_point,\n",
    "    'maxiters': maxiters,\n",
    "    'C': C,\n",
    "    'initial_layout': initial_layout\n",
    "}\n",
    "options = {'backend_name': backend.name()}\n",
    "job = provider.runtime.run(program_id=\"quantum-kernel-alignment\",\n",
    "                              options=options,\n",
    "                              inputs=runtime_inputs,\n",
    "                              callback=interim_result_callback,\n",
    "                              )\n",
    "\n",
    "print(job.job_id())\n",
    "result = job.result()"
   ]
  },
  {
   "cell_type": "markdown",
   "metadata": {},
   "source": [
    "## 4. Retrieve the results of the Runtime Program\n",
    "\n",
    "The output of QKA is the set of aligned kernel parameters and the aligned kernel matrix."
   ]
  },
  {
   "cell_type": "code",
   "execution_count": 7,
   "metadata": {
    "scrolled": true
   },
   "outputs": [
    {
     "name": "stdout",
     "output_type": "stream",
     "text": [
      "aligned_kernel_parameters: [0.40758418]\n",
      "aligned_kernel_matrix: [[1.00000000e+00 4.65454102e-01 1.20727539e-01 1.04003906e-01\n",
      "  1.26586914e-01 2.25097656e-01 2.25830078e-02 6.04248047e-02\n",
      "  1.60644531e-01 1.21337891e-01 2.18505859e-02 1.72119141e-02\n",
      "  2.57568359e-02 2.44140625e-02 6.59179688e-03 4.15039062e-03\n",
      "  1.39648438e-01 1.42822266e-01 1.79443359e-02 2.03857422e-02]\n",
      " [4.65454102e-01 1.00000000e+00 6.88476562e-02 1.47460938e-01\n",
      "  7.00683594e-02 2.48779297e-01 2.05078125e-02 3.84521484e-02\n",
      "  8.72802734e-02 1.24511719e-01 1.57470703e-02 2.60009766e-02\n",
      "  2.00195312e-02 1.51367188e-02 4.15039062e-03 8.05664062e-03\n",
      "  1.34521484e-01 1.26708984e-01 9.15527344e-03 3.79638672e-02]\n",
      " [1.20727539e-01 6.88476562e-02 1.00000000e+00 1.06201172e-02\n",
      "  4.32128906e-02 2.85644531e-02 1.41601562e-01 1.95312500e-03\n",
      "  2.41699219e-02 5.80078125e-01 1.26831055e-01 8.87451172e-02\n",
      "  5.24902344e-03 1.39038086e-01 2.44140625e-02 3.75976562e-02\n",
      "  2.53906250e-02 2.63671875e-02 1.20483398e-01 2.56347656e-03]\n",
      " [1.04003906e-01 1.47460938e-01 1.06201172e-02 1.00000000e+00\n",
      "  1.52587891e-02 3.91845703e-02 2.44140625e-03 2.14965820e-01\n",
      "  5.17578125e-02 2.57568359e-02 7.69042969e-03 1.17187500e-01\n",
      "  6.34765625e-03 8.05664062e-03 1.58691406e-03 1.78222656e-02\n",
      "  1.20849609e-02 2.24609375e-02 9.76562500e-04 1.04003906e-01]\n",
      " [1.26586914e-01 7.00683594e-02 4.32128906e-02 1.52587891e-02\n",
      "  1.00000000e+00 1.17187500e-02 1.01684570e-01 2.56347656e-03\n",
      "  2.47802734e-02 2.72216797e-02 8.91113281e-03 3.90625000e-03\n",
      "  9.71679688e-02 3.41796875e-03 2.46582031e-02 9.76562500e-04\n",
      "  2.89306641e-02 3.08593750e-01 3.17382812e-03 4.58984375e-02]\n",
      " [2.25097656e-01 2.48779297e-01 2.85644531e-02 3.91845703e-02\n",
      "  1.17187500e-02 1.00000000e+00 2.92968750e-03 1.04492188e-01\n",
      "  4.63867188e-02 4.83398438e-02 2.19726562e-03 2.68554688e-03\n",
      "  2.68554688e-03 1.19262695e-01 3.66210938e-04 2.11181641e-02\n",
      "  8.83789062e-02 2.47802734e-02 2.68554688e-03 7.08007812e-03]\n",
      " [2.25830078e-02 2.05078125e-02 1.41601562e-01 2.44140625e-03\n",
      "  1.01684570e-01 2.92968750e-03 1.00000000e+00 1.09863281e-03\n",
      "  2.68554688e-03 2.01538086e-01 4.21142578e-02 2.55126953e-02\n",
      "  1.09863281e-02 3.74755859e-02 8.81347656e-02 3.17382812e-03\n",
      "  3.41796875e-03 6.35986328e-02 2.49023438e-02 7.93457031e-03]\n",
      " [6.04248047e-02 3.84521484e-02 1.95312500e-03 2.14965820e-01\n",
      "  2.56347656e-03 1.04492188e-01 1.09863281e-03 1.00000000e+00\n",
      "  4.27246094e-03 2.19726562e-03 6.10351562e-04 4.17480469e-02\n",
      "  7.32421875e-04 2.28271484e-02 4.88281250e-04 1.10961914e-01\n",
      "  9.15527344e-03 6.83593750e-03 3.66210938e-04 2.06298828e-02]\n",
      " [1.60644531e-01 8.72802734e-02 2.41699219e-02 5.17578125e-02\n",
      "  2.47802734e-02 4.63867188e-02 2.68554688e-03 4.27246094e-03\n",
      "  1.00000000e+00 1.61132812e-02 1.14013672e-01 3.78417969e-03\n",
      "  1.22436523e-01 1.83105469e-03 2.70996094e-02 4.88281250e-04\n",
      "  2.22167969e-02 3.35693359e-02 3.66210938e-03 6.46972656e-03]\n",
      " [1.21337891e-01 1.24511719e-01 5.80078125e-01 2.57568359e-02\n",
      "  2.72216797e-02 4.83398438e-02 2.01538086e-01 2.19726562e-03\n",
      "  1.61132812e-02 1.00000000e+00 1.21093750e-01 1.33178711e-01\n",
      "  9.39941406e-03 1.57958984e-01 2.73437500e-02 3.61328125e-02\n",
      "  1.81884766e-02 2.25830078e-02 5.66406250e-02 3.66210938e-03]\n",
      " [2.18505859e-02 1.57470703e-02 1.26831055e-01 7.69042969e-03\n",
      "  8.91113281e-03 2.19726562e-03 4.21142578e-02 6.10351562e-04\n",
      "  1.14013672e-01 1.21093750e-01 1.00000000e+00 2.01416016e-02\n",
      "  2.67333984e-02 2.89306641e-02 9.87548828e-02 8.91113281e-03\n",
      "  3.29589844e-03 7.69042969e-03 1.50146484e-02 8.54492188e-04]\n",
      " [1.72119141e-02 2.60009766e-02 8.87451172e-02 1.17187500e-01\n",
      "  3.90625000e-03 2.68554688e-03 2.55126953e-02 4.17480469e-02\n",
      "  3.78417969e-03 1.33178711e-01 2.01416016e-02 1.00000000e+00\n",
      "  8.54492188e-04 5.33447266e-02 3.29589844e-03 2.88208008e-01\n",
      "  3.29589844e-03 9.39941406e-03 1.03759766e-02 2.44140625e-02]\n",
      " [2.57568359e-02 2.00195312e-02 5.24902344e-03 6.34765625e-03\n",
      "  9.71679688e-02 2.68554688e-03 1.09863281e-02 7.32421875e-04\n",
      "  1.22436523e-01 9.39941406e-03 2.67333984e-02 8.54492188e-04\n",
      "  1.00000000e+00 2.31933594e-03 1.08886719e-01 4.88281250e-04\n",
      "  2.44140625e-03 5.21240234e-02 9.76562500e-04 1.18408203e-02]\n",
      " [2.44140625e-02 1.51367188e-02 1.39038086e-01 8.05664062e-03\n",
      "  3.41796875e-03 1.19262695e-01 3.74755859e-02 2.28271484e-02\n",
      "  1.83105469e-03 1.57958984e-01 2.89306641e-02 5.33447266e-02\n",
      "  2.31933594e-03 1.00000000e+00 1.01318359e-02 1.24755859e-01\n",
      "  1.36718750e-02 4.15039062e-03 3.74755859e-02 6.10351562e-04]\n",
      " [6.59179688e-03 4.15039062e-03 2.44140625e-02 1.58691406e-03\n",
      "  2.46582031e-02 3.66210938e-04 8.81347656e-02 4.88281250e-04\n",
      "  2.70996094e-02 2.73437500e-02 9.87548828e-02 3.29589844e-03\n",
      "  1.08886719e-01 1.01318359e-02 1.00000000e+00 2.92968750e-03\n",
      "  7.32421875e-04 1.81884766e-02 7.20214844e-03 2.19726562e-03]\n",
      " [4.15039062e-03 8.05664062e-03 3.75976562e-02 1.78222656e-02\n",
      "  9.76562500e-04 2.11181641e-02 3.17382812e-03 1.10961914e-01\n",
      "  4.88281250e-04 3.61328125e-02 8.91113281e-03 2.88208008e-01\n",
      "  4.88281250e-04 1.24755859e-01 2.92968750e-03 1.00000000e+00\n",
      "  1.34277344e-03 8.54492188e-04 3.78417969e-03 5.37109375e-03]\n",
      " [1.39648438e-01 1.34521484e-01 2.53906250e-02 1.20849609e-02\n",
      "  2.89306641e-02 8.83789062e-02 3.41796875e-03 9.15527344e-03\n",
      "  2.22167969e-02 1.81884766e-02 3.29589844e-03 3.29589844e-03\n",
      "  2.44140625e-03 1.36718750e-02 7.32421875e-04 1.34277344e-03\n",
      "  1.00000000e+00 4.29687500e-02 7.27539062e-02 4.39453125e-03]\n",
      " [1.42822266e-01 1.26708984e-01 2.63671875e-02 2.24609375e-02\n",
      "  3.08593750e-01 2.47802734e-02 6.35986328e-02 6.83593750e-03\n",
      "  3.35693359e-02 2.25830078e-02 7.69042969e-03 9.39941406e-03\n",
      "  5.21240234e-02 4.15039062e-03 1.81884766e-02 8.54492188e-04\n",
      "  4.29687500e-02 1.00000000e+00 7.44628906e-03 1.54174805e-01]\n",
      " [1.79443359e-02 9.15527344e-03 1.20483398e-01 9.76562500e-04\n",
      "  3.17382812e-03 2.68554688e-03 2.49023438e-02 3.66210938e-04\n",
      "  3.66210938e-03 5.66406250e-02 1.50146484e-02 1.03759766e-02\n",
      "  9.76562500e-04 3.74755859e-02 7.20214844e-03 3.78417969e-03\n",
      "  7.27539062e-02 7.44628906e-03 1.00000000e+00 1.22070312e-04]\n",
      " [2.03857422e-02 3.79638672e-02 2.56347656e-03 1.04003906e-01\n",
      "  4.58984375e-02 7.08007812e-03 7.93457031e-03 2.06298828e-02\n",
      "  6.46972656e-03 3.66210938e-03 8.54492188e-04 2.44140625e-02\n",
      "  1.18408203e-02 6.10351562e-04 2.19726562e-03 5.37109375e-03\n",
      "  4.39453125e-03 1.54174805e-01 1.22070312e-04 1.00000000e+00]]\n"
     ]
    }
   ],
   "source": [
    "print(f\"aligned_kernel_parameters: {result['aligned_kernel_parameters']}\")\n",
    "print(f\"aligned_kernel_matrix: {result['aligned_kernel_matrix']}\")"
   ]
  },
  {
   "cell_type": "markdown",
   "metadata": {
    "slideshow": {
     "slide_type": "slide"
    }
   },
   "source": [
    "# Use the results of the Runtime Program to test the SVM on new data\n",
    "\n",
    "With the aligned kernel and its parameters in hand, we can use the `sklearn` package to train the SVM and then predict labels of new test points. A second kernel matrix built from the test points is needed for the SVM decision function, so we'll invoke the Circuit Runner Runtime Program."
   ]
  },
  {
   "cell_type": "code",
   "execution_count": 8,
   "metadata": {
    "scrolled": true,
    "slideshow": {
     "slide_type": "fragment"
    }
   },
   "outputs": [
    {
     "name": "stdout",
     "output_type": "stream",
     "text": [
      "accuracy test: 0.7\n"
     ]
    }
   ],
   "source": [
    "from qka.kernel_matrix import KernelMatrix\n",
    "from sklearn.svm import SVC\n",
    "from sklearn import metrics\n",
    "\n",
    "# Train the SVM with the aligned kernel matrix:\n",
    "\n",
    "kernel_aligned = result['aligned_kernel_matrix']\n",
    "model = SVC(C=C, kernel='precomputed')\n",
    "model.fit(X=kernel_aligned, y=y_train)\n",
    "\n",
    "# Test the SVM on new data:\n",
    "\n",
    "km = KernelMatrix(feature_map=fm, backend=backend, initial_layout=initial_layout)\n",
    "kernel_test = km.construct_kernel_matrix(x1_vec=x_test, x2_vec=x_train, parameters=result['aligned_kernel_parameters'])\n",
    "labels_test = model.predict(X=kernel_test)\n",
    "accuracy_test = metrics.balanced_accuracy_score(y_true=y_test, y_pred=labels_test)\n",
    "print(f\"accuracy test: {accuracy_test}\")"
   ]
  },
  {
   "cell_type": "code",
   "execution_count": 9,
   "metadata": {},
   "outputs": [
    {
     "data": {
      "text/html": [
       "<h3>Version Information</h3><table><tr><th>Qiskit Software</th><th>Version</th></tr><tr><td>Qiskit</td><td>0.25.0</td></tr><tr><td>Terra</td><td>0.17.0</td></tr><tr><td>Aer</td><td>0.8.0</td></tr><tr><td>Ignis</td><td>0.6.0</td></tr><tr><td>Aqua</td><td>0.9.0</td></tr><tr><td>IBM Q Provider</td><td>0.13.0</td></tr><tr><th>System information</th></tr><tr><td>Python</td><td>3.7.10 (default, Feb 26 2021, 10:16:00) \n",
       "[Clang 10.0.0 ]</td></tr><tr><td>OS</td><td>Darwin</td></tr><tr><td>CPUs</td><td>4</td></tr><tr><td>Memory (Gb)</td><td>16.0</td></tr><tr><td colspan='2'>Mon May 03 13:47:57 2021 EDT</td></tr></table>"
      ],
      "text/plain": [
       "<IPython.core.display.HTML object>"
      ]
     },
     "metadata": {},
     "output_type": "display_data"
    },
    {
     "data": {
      "text/html": [
       "<div style='width: 100%; background-color:#d5d9e0;padding-left: 10px; padding-bottom: 10px; padding-right: 10px; padding-top: 5px'><h3>This code is a part of Qiskit</h3><p>&copy; Copyright IBM 2017, 2021.</p><p>This code is licensed under the Apache License, Version 2.0. You may<br>obtain a copy of this license in the LICENSE.txt file in the root directory<br> of this source tree or at http://www.apache.org/licenses/LICENSE-2.0.<p>Any modifications or derivative works of this code must retain this<br>copyright notice, and modified files need to carry a notice indicating<br>that they have been altered from the originals.</p></div>"
      ],
      "text/plain": [
       "<IPython.core.display.HTML object>"
      ]
     },
     "metadata": {},
     "output_type": "display_data"
    }
   ],
   "source": [
    "import qiskit.tools.jupyter\n",
    "%qiskit_version_table\n",
    "%qiskit_copyright"
   ]
  },
  {
   "cell_type": "markdown",
   "metadata": {},
   "source": [
    "A version of this code for quantum kernel alignment will be made available through a Qiskit application module in the future."
   ]
  }
 ],
 "metadata": {
  "kernelspec": {
   "display_name": "Python [conda env:qiskit0.25.0python3.7] *",
   "language": "python",
   "name": "conda-env-qiskit0.25.0python3.7-py"
  },
  "language_info": {
   "codemirror_mode": {
    "name": "ipython",
    "version": 3
   },
   "file_extension": ".py",
   "mimetype": "text/x-python",
   "name": "python",
   "nbconvert_exporter": "python",
   "pygments_lexer": "ipython3",
   "version": "3.7.10"
  }
 },
 "nbformat": 4,
 "nbformat_minor": 4
}
