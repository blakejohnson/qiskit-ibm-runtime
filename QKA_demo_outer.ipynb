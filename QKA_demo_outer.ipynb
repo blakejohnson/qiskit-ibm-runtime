{
 "cells": [
  {
   "cell_type": "code",
   "execution_count": 1,
   "metadata": {},
   "outputs": [],
   "source": [
    "import os\n",
    "os.environ[\"PYTHON_EXEC\"] = \"/Users/jessieyu/.pyenv/versions/qka-demo/bin/python3\"\n",
    "os.environ[\"NTC_DOC_FILE\"] = \"runtime/qka_doc.json\"\n",
    "os.environ[\"NTC_PROGRAM_FILE\"] = \"runtime/qka_runtime_outer.py\""
   ]
  },
  {
   "cell_type": "code",
   "execution_count": 2,
   "metadata": {},
   "outputs": [],
   "source": [
    "from qiskit import IBMQ"
   ]
  },
  {
   "cell_type": "code",
   "execution_count": 3,
   "metadata": {},
   "outputs": [],
   "source": [
    "provider = IBMQ.load_account()"
   ]
  },
  {
   "cell_type": "code",
   "execution_count": 4,
   "metadata": {},
   "outputs": [
    {
     "name": "stdout",
     "output_type": "stream",
     "text": [
      "Runtime Program QKA:\n",
      "  Description: Quantum kernel alignment algorithm.\n",
      "  Parameters:\n",
      "    feature_map:\n",
      "      description: quantum feature map\n",
      "      type: FeatureMapQuantumControl\n",
      "    data:\n",
      "      description: NxD array, where N is the number of data points, D is the feature dimension.\n",
      "      type: numpy.ndarray\n",
      "    labels:\n",
      "      description: Nx1 array of +/-1, where N is the number of data points\n",
      "      type: numpy.ndarray\n",
      "    lambda_plus:\n",
      "      description: Plus kernel parameter\n",
      "      type: numpy.ndarray\n",
      "    lambda_minus:\n",
      "      description: Minus kernel parameter\n",
      "      type: numpy.ndarray\n",
      "    C:\n",
      "      description: penalty parameter for soft-margin\n",
      "      type: float\n",
      "  Returns:\n",
      "    cost_plus:\n",
      "      description: SVM objective function evaluated at (alpha_+, lambda_+)\n",
      "      type: float\n",
      "    cost_minus:\n",
      "      description: SVM objective function evaluated at (alpha_-, lambda_-)\n",
      "      type: float\n"
     ]
    }
   ],
   "source": [
    "provider.runtime.programs()"
   ]
  },
  {
   "cell_type": "code",
   "execution_count": 5,
   "metadata": {},
   "outputs": [],
   "source": [
    "import numpy as np\n",
    "from qka.featuremaps import FeatureMapForrelation\n",
    "\n",
    "num_samples=5  # number of samples per class in the input data\n",
    "num_features=2 # number of features in the input data\n",
    "depth=2        # depth of the feature map circuit\n",
    "C=1            # SVM soft-margin penalty\n",
    "spsa_steps=2   # number of SPSA iterations\n",
    "\n",
    "# Define the feature map and its initial parameters:\n",
    "fm = FeatureMapForrelation(feature_dimension=num_features, depth=depth, entangler_map=None)\n",
    "lambda_initial = np.random.uniform(-1,1, size=(fm._num_parameters))\n",
    "\n",
    "# create random test data and labels:\n",
    "x_train = np.random.rand(2*num_samples, num_features)\n",
    "y_train = np.concatenate((-1*np.ones(num_samples), np.ones(num_samples)))\n",
    "\n",
    "backend = provider.backend.ibmq_qasm_simulator"
   ]
  },
  {
   "cell_type": "code",
   "execution_count": 6,
   "metadata": {},
   "outputs": [],
   "source": [
    "def interim_result_callback(interim_result):\n",
    "    print(f\"interim result: {interim_result}\\n\")"
   ]
  },
  {
   "cell_type": "code",
   "execution_count": 7,
   "metadata": {},
   "outputs": [
    {
     "name": "stdout",
     "output_type": "stream",
     "text": [
      "interim result: {'cost': 7.573571427178223, 'lambda': array([ 0.54118207,  0.15037056,  0.60169902, -0.57977013]), 'cost_plus': 7.6806636414656175, 'cost_minus': 7.466479212890828, 'cost_final': 7.573571427178223}\n",
      "\n",
      "interim result: {'cost': 8.067868423040537, 'lambda': array([ 0.53141793,  0.14060643,  0.61146315, -0.57000599]), 'cost_plus': 8.206049892959566, 'cost_minus': 7.929686953121507, 'cost_final': 8.067868423040537}\n",
      "\n",
      "final result:\n",
      "best_kernel_parameters: [ 0.10726     0.0290977   0.12131622 -0.11497761]\n",
      "best_kernel_matrix: [[1.         0.00292969 0.00195312 0.13476562 0.06152344 0.46386719\n",
      "  0.015625   0.38476562 0.06933594 0.109375  ]\n",
      " [0.00292969 1.         0.95214844 0.40722656 0.03417969 0.40136719\n",
      "  0.95898438 0.49511719 0.06640625 0.671875  ]\n",
      " [0.00195312 0.95214844 1.         0.34179688 0.03417969 0.44921875\n",
      "  0.90039062 0.52832031 0.04980469 0.79785156]\n",
      " [0.13476562 0.40722656 0.34179688 1.         0.33691406 0.37402344\n",
      "  0.37890625 0.39941406 0.06640625 0.1640625 ]\n",
      " [0.06152344 0.03417969 0.03417969 0.33691406 1.         0.34472656\n",
      "  0.02636719 0.30957031 0.52441406 0.18359375]\n",
      " [0.46386719 0.40136719 0.44921875 0.37402344 0.34472656 1.\n",
      "  0.28613281 0.98339844 0.00390625 0.40917969]\n",
      " [0.015625   0.95898438 0.90039062 0.37890625 0.02636719 0.28613281\n",
      "  1.         0.36035156 0.10449219 0.61035156]\n",
      " [0.38476562 0.49511719 0.52832031 0.39941406 0.30957031 0.98339844\n",
      "  0.36035156 1.         0.00195312 0.41210938]\n",
      " [0.06933594 0.06640625 0.04980469 0.06640625 0.52441406 0.00390625\n",
      "  0.10449219 0.00195312 1.         0.11132812]\n",
      " [0.109375   0.671875   0.79785156 0.1640625  0.18359375 0.40917969\n",
      "  0.61035156 0.41210938 0.11132812 1.        ]]\n"
     ]
    }
   ],
   "source": [
    "# Call QKA runtime program.\n",
    "runtime_params = {\n",
    "    'feature_map': fm.to_dict(),\n",
    "    'data': x_train,\n",
    "    'labels': y_train,\n",
    "    'lambda_initial': lambda_initial,\n",
    "    'spsa_steps': 2,\n",
    "    'C': C\n",
    "}\n",
    "result = provider.runtime.run(program_name=\"QKA\",\n",
    "                              backend=backend,\n",
    "                              params=runtime_params,\n",
    "                              callback=interim_result_callback,\n",
    "                             ).result()\n",
    "print(\"final result:\")\n",
    "print(f\"aligned_kernel_parameters: {result['aligned_kernel_parameters']}\")\n",
    "print(f\"aligned_kernel_matrix: {result['aligned_kernel_matrix']}\")"
   ]
  },
  {
   "cell_type": "code",
   "execution_count": null,
   "metadata": {},
   "outputs": [],
   "source": []
  }
 ],
 "metadata": {
  "kernelspec": {
   "display_name": "Python 3",
   "language": "python",
   "name": "python3"
  },
  "language_info": {
   "codemirror_mode": {
    "name": "ipython",
    "version": 3
   },
   "file_extension": ".py",
   "mimetype": "text/x-python",
   "name": "python",
   "nbconvert_exporter": "python",
   "pygments_lexer": "ipython3",
   "version": "3.7.9"
  }
 },
 "nbformat": 4,
 "nbformat_minor": 4
}
