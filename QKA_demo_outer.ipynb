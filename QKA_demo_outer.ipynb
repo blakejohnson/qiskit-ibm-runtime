{
 "cells": [
  {
   "cell_type": "markdown",
   "metadata": {},
   "source": [
    "# Quantum Kernel Alignment with Qiskit Runtime\n",
    "\n",
    "Classification problems are widespread in machine learning applications. A common method for tackling these problems is the support vector machine (SVM) [1,2]. This supervised learning algorithm uses labeled training samples to find an optimal separating hyperplane between data classes and predict the labels of new data points. Often, data is not linearly separable in the original space. In these cases, the kernel trick is used to encode a transformation of the data into a higher-dimensional feature space through the inner product between pairs of data points, where the data may become separable.\n",
    "\n",
    "Quantum computers can be used to encode clasical data in a quantum-enhanced feature space. In 2019, IBM introduced a quantum algorithm called the quantum kernel estimator (QKE), which uses quantum circuits to evaluate inner products between data points in the quantum feature space [3]. More recently, IBM proved that on certain learning problems, quantum kernels can offer superpolynomial speedups over any classical learner [4]. This means that quantum kernels can someday offer quantum advantage on suitable problems. \n",
    "\n",
    "With SVMs in practice, one must make a choice about which kernel function to use. Sometimes, symmetries in the data can inform the choice of kernel, other times it is chosen in an ad hoc way. Kernel alignment is one approach to learning a kernel on a given dataset by iteratively adapting it to have high similarity to a target kernel informed from the underlying data distribution [5]. Using this concept, we introduce quantum kernel alignment (QKA), which is an algorithm for optimizing parametrized quantum kernels evaluated using the QKE [6]. One can show that finding a kernel that maximizes the alignment and the SVM margin is equivalent to the following problem:\n",
    "\n",
    "\\begin{equation}\n",
    "    \\mathrm{min}_{\\vec{\\lambda}} \\mathrm{max}_{\\vec{\\alpha}} F(\\vec{\\alpha}, \\vec{\\lambda}) ~~ \\textrm{subject to} ...\n",
    "\\end{equation}\n",
    "\n",
    "TODO: discuss the specific problem we are solving...\n",
    "\n",
    "QKA is an iterative quantum-classical algorithm, in which classical optimizers are used to tune the parameters of a quantum kernel evaluated by executing quantum circuits. Qiskit Runtime is a new... TODO: discuss how runtime can help QKA run faster...\n",
    "\n",
    "[1] B. E. Boser, I. M. Guyon,  and V. N. Vapnik, Proceedings of the Fifth Annual Workshop on Computational Learning Theory, COLT ’92 (Association for Computing Machinery, New York, NY, USA, 1992) pp. 144-152 [link](https://doi.org/10.1145/130385.130401) <br>\n",
    "[2] V. Vapnik, The Nature of Statistical Learning Theory, Information Science and Statistics (Springer New York, 2013) [link](https://books.google.com/books?id=EqgACAAAQBAJ) <br>\n",
    "[3] V. Havlíček, A. D. Córcoles, K. Temme, A. W. Harrow, A. Kandala, J. M. Chow, and J. M. Gambetta, Nature 567, 209-212 (2019) [link](https://doi.org/10.1038/s41586-019-0980-2) <br>\n",
    "[4] Y. Liu, S. Arunachalam, and K. Temme, arXiv:2010.02174 (2020) [link](https://arxiv.org/abs/2010.02174) <br>\n",
    "[5] N. Cristianini, J. Shawe-taylor, A. Elisseeff, and J. Kandola, Advances in Neural Information Processing Systems 14 (2001) [link](https://proceedings.neurips.cc/paper/2001/file/1f71e393b3809197ed66df836fe833e5-Paper.pdf) <br>\n",
    "[6] Our ref - forthcoming..."
   ]
  },
  {
   "cell_type": "code",
   "execution_count": 1,
   "metadata": {
    "slideshow": {
     "slide_type": "fragment"
    }
   },
   "outputs": [],
   "source": [
    "from qiskit import IBMQ\n",
    "\n",
    "IBMQ.load_account()\n",
    "provider = IBMQ.get_provider(project='qiskit-runtime')\n",
    "backend = provider.get_backend('ibmq_montreal')"
   ]
  },
  {
   "cell_type": "markdown",
   "metadata": {
    "slideshow": {
     "slide_type": "slide"
    }
   },
   "source": [
    "# Invoke Quantum Kernel Alignment program"
   ]
  },
  {
   "cell_type": "markdown",
   "metadata": {},
   "source": [
    "## 1. Prepare the dataset"
   ]
  },
  {
   "cell_type": "code",
   "execution_count": 2,
   "metadata": {},
   "outputs": [],
   "source": [
    "import numpy as np\n",
    "import pandas as pd\n",
    "\n",
    "# load the dataset\n",
    "\n",
    "df = pd.read_csv('/Users/jen/Q/code/quantum_kernel_data/dataset.csv',sep = ',', header = None)\n",
    "data = df.values\n",
    "num_features = int((np.shape(data)[1]-1)/2)\n",
    "\n",
    "# specify the training and testing sets\n",
    "\n",
    "num_train = 10 # number of training samples per class\n",
    "num_test = 20  # number of test samples per class\n",
    "\n",
    "x_train = data[:2*num_train, :-1]\n",
    "y_train = data[:2*num_train, -1]\n",
    "\n",
    "x_test = data[2*num_train:2*(num_train+num_test), :-1]\n",
    "y_test = data[2*num_train:2*(num_train+num_test), -1]"
   ]
  },
  {
   "cell_type": "markdown",
   "metadata": {},
   "source": [
    "## 2. Configure the algorithm settings"
   ]
  },
  {
   "cell_type": "code",
   "execution_count": 3,
   "metadata": {
    "slideshow": {
     "slide_type": "fragment"
    }
   },
   "outputs": [],
   "source": [
    "from qiskit import Aer\n",
    "from qka.featuremaps import FeatureMapACME\n",
    "\n",
    "# Set the parameters:\n",
    "C = 1          # SVM soft-margin penalty\n",
    "maxiters = 11  # number of SPSA iterations\n",
    "\n",
    "entangler_map=[[0,1],[2,3],[4,5],[6,7],[8,9],[1,2],[3,4],[5,6],[7,8]] # entanglers in the feature map\n",
    "initial_layout = [9, 8, 11, 14, 16, 19, 22, 25, 24, 23] # mapping virtual qubits to physical qubits on the chip\n",
    "\n",
    "# Define the feature map and its initial parameters:\n",
    "initial_kernel_parameters = [0.1] # np.pi/2 should yield 100% test accuracy\n",
    "fm = FeatureMapACME(feature_dimension=num_features, entangler_map=entangler_map)"
   ]
  },
  {
   "cell_type": "code",
   "execution_count": 4,
   "metadata": {
    "slideshow": {
     "slide_type": "fragment"
    }
   },
   "outputs": [],
   "source": [
    "def interim_result_callback(job_id, interim_result):\n",
    "    print(f\"interim result: {interim_result}\\n\")"
   ]
  },
  {
   "cell_type": "code",
   "execution_count": 4,
   "metadata": {
    "scrolled": false,
    "slideshow": {
     "slide_type": "slide"
    }
   },
   "outputs": [
    {
     "name": "stdout",
     "output_type": "stream",
     "text": [
      "c246fgs7jmf3kdh9vveg\n"
     ]
    },
    {
     "name": "stderr",
     "output_type": "stream",
     "text": [
      "runtime_job._start_websocket_client:WARNING:2021-04-27 15:36:54,616: An error occurred while streaming results from the server for job c246fgs7jmf3kdh9vveg:\n",
      "Traceback (most recent call last):\n",
      "  File \"/Users/jen/opt/anaconda3/envs/qiskit0.25.0python3.7/lib/python3.7/site-packages/qiskit/providers/ibmq/api/clients/runtime_ws.py\", line 66, in _connect\n",
      "    websocket = await connect(url, extra_headers=self._header)\n",
      "  File \"/Users/jen/opt/anaconda3/envs/qiskit0.25.0python3.7/lib/python3.7/site-packages/websockets/client.py\", line 547, in __await_impl__\n",
      "    extra_headers=protocol.extra_headers,\n",
      "  File \"/Users/jen/opt/anaconda3/envs/qiskit0.25.0python3.7/lib/python3.7/site-packages/websockets/client.py\", line 296, in handshake\n",
      "    raise InvalidStatusCode(status_code)\n",
      "websockets.exceptions.InvalidStatusCode: server rejected WebSocket connection: HTTP 404\n",
      "\n",
      "The above exception was the direct cause of the following exception:\n",
      "\n",
      "Traceback (most recent call last):\n",
      "  File \"/Users/jen/opt/anaconda3/envs/qiskit0.25.0python3.7/lib/python3.7/site-packages/qiskit/providers/ibmq/runtime/runtime_job.py\", line 238, in _start_websocket_client\n",
      "    self._streaming_loop.run_until_complete(self._streaming_task)\n",
      "  File \"/Users/jen/opt/anaconda3/envs/qiskit0.25.0python3.7/lib/python3.7/site-packages/nest_asyncio.py\", line 70, in run_until_complete\n",
      "    return f.result()\n",
      "  File \"/Users/jen/opt/anaconda3/envs/qiskit0.25.0python3.7/lib/python3.7/asyncio/futures.py\", line 181, in result\n",
      "    raise self._exception\n",
      "  File \"/Users/jen/opt/anaconda3/envs/qiskit0.25.0python3.7/lib/python3.7/asyncio/tasks.py\", line 249, in __step\n",
      "    result = coro.send(None)\n",
      "  File \"/Users/jen/opt/anaconda3/envs/qiskit0.25.0python3.7/lib/python3.7/site-packages/qiskit/providers/ibmq/api/clients/runtime_ws.py\", line 136, in job_results\n",
      "    raise ex\n",
      "  File \"/Users/jen/opt/anaconda3/envs/qiskit0.25.0python3.7/lib/python3.7/site-packages/qiskit/providers/ibmq/api/clients/runtime_ws.py\", line 111, in job_results\n",
      "    self._ws = await self._connect(url)\n",
      "  File \"/Users/jen/opt/anaconda3/envs/qiskit0.25.0python3.7/lib/python3.7/site-packages/qiskit/providers/ibmq/api/clients/runtime_ws.py\", line 76, in _connect\n",
      "    raise exception_to_raise from ex\n",
      "qiskit.providers.ibmq.api.exceptions.WebsocketRetryableError: 'Failed to connect to the server.'\n",
      "\n"
     ]
    }
   ],
   "source": [
    "# Call QKA runtime program.\n",
    "runtime_inputs = {\n",
    "    'feature_map': fm,\n",
    "    'data': x_train,\n",
    "    'labels': y_train,\n",
    "    'initial_kernel_parameters': initial_kernel_parameters,\n",
    "    'maxiters': maxiters,\n",
    "    'C': C,\n",
    "    'initial_layout': initial_layout\n",
    "}\n",
    "options = {'backend_name': backend.name()}\n",
    "job = provider.runtime.run(program_id=\"quantum-kernel-alignment\",\n",
    "                              options=options,\n",
    "                              inputs=runtime_inputs,\n",
    "                              callback=interim_result_callback,\n",
    "                              )\n",
    "print(job.job_id())"
   ]
  },
  {
   "cell_type": "code",
   "execution_count": 11,
   "metadata": {},
   "outputs": [
    {
     "name": "stdout",
     "output_type": "stream",
     "text": [
      "final result:\n",
      "{'aligned_kernel_parameters': array([0.09268847]), 'aligned_kernel_matrix': array([[1.        , 0.01049805, 0.05932617, 0.00524902, 0.04125977,\n",
      "        0.11291504, 0.03869629, 0.03442383, 0.01159668, 0.0637207 ],\n",
      "       [0.01049805, 1.        , 0.00744629, 0.07568359, 0.00524902,\n",
      "        0.01696777, 0.00793457, 0.00524902, 0.00256348, 0.00720215],\n",
      "       [0.05932617, 0.00744629, 1.        , 0.01538086, 0.01489258,\n",
      "        0.04541016, 0.08691406, 0.0123291 , 0.04333496, 0.02124023],\n",
      "       [0.00524902, 0.07568359, 0.01538086, 1.        , 0.00134277,\n",
      "        0.00488281, 0.01330566, 0.00195312, 0.00292969, 0.00256348],\n",
      "       [0.04125977, 0.00524902, 0.01489258, 0.00134277, 1.        ,\n",
      "        0.03918457, 0.01269531, 0.01428223, 0.00427246, 0.01928711],\n",
      "       [0.11291504, 0.01696777, 0.04541016, 0.00488281, 0.03918457,\n",
      "        1.        , 0.05310059, 0.04541016, 0.01953125, 0.06933594],\n",
      "       [0.03869629, 0.00793457, 0.08691406, 0.01330566, 0.01269531,\n",
      "        0.05310059, 1.        , 0.02416992, 0.04016113, 0.03723145],\n",
      "       [0.03442383, 0.00524902, 0.0123291 , 0.00195312, 0.01428223,\n",
      "        0.04541016, 0.02416992, 1.        , 0.04907227, 0.0255127 ],\n",
      "       [0.01159668, 0.00256348, 0.04333496, 0.00292969, 0.00427246,\n",
      "        0.01953125, 0.04016113, 0.04907227, 1.        , 0.00976562],\n",
      "       [0.0637207 , 0.00720215, 0.02124023, 0.00256348, 0.01928711,\n",
      "        0.06933594, 0.03723145, 0.0255127 , 0.00976562, 1.        ]])}\n",
      "aligned_kernel_parameters: [0.09268847]\n",
      "aligned_kernel_matrix: [[1.         0.01049805 0.05932617 0.00524902 0.04125977 0.11291504\n",
      "  0.03869629 0.03442383 0.01159668 0.0637207 ]\n",
      " [0.01049805 1.         0.00744629 0.07568359 0.00524902 0.01696777\n",
      "  0.00793457 0.00524902 0.00256348 0.00720215]\n",
      " [0.05932617 0.00744629 1.         0.01538086 0.01489258 0.04541016\n",
      "  0.08691406 0.0123291  0.04333496 0.02124023]\n",
      " [0.00524902 0.07568359 0.01538086 1.         0.00134277 0.00488281\n",
      "  0.01330566 0.00195312 0.00292969 0.00256348]\n",
      " [0.04125977 0.00524902 0.01489258 0.00134277 1.         0.03918457\n",
      "  0.01269531 0.01428223 0.00427246 0.01928711]\n",
      " [0.11291504 0.01696777 0.04541016 0.00488281 0.03918457 1.\n",
      "  0.05310059 0.04541016 0.01953125 0.06933594]\n",
      " [0.03869629 0.00793457 0.08691406 0.01330566 0.01269531 0.05310059\n",
      "  1.         0.02416992 0.04016113 0.03723145]\n",
      " [0.03442383 0.00524902 0.0123291  0.00195312 0.01428223 0.04541016\n",
      "  0.02416992 1.         0.04907227 0.0255127 ]\n",
      " [0.01159668 0.00256348 0.04333496 0.00292969 0.00427246 0.01953125\n",
      "  0.04016113 0.04907227 1.         0.00976562]\n",
      " [0.0637207  0.00720215 0.02124023 0.00256348 0.01928711 0.06933594\n",
      "  0.03723145 0.0255127  0.00976562 1.        ]]\n"
     ]
    }
   ],
   "source": [
    "result = job.result()\n",
    "\n",
    "print(f\"aligned_kernel_parameters: {result['aligned_kernel_parameters']}\")\n",
    "print(f\"aligned_kernel_matrix: {result['aligned_kernel_matrix']}\")"
   ]
  },
  {
   "cell_type": "markdown",
   "metadata": {
    "slideshow": {
     "slide_type": "slide"
    }
   },
   "source": [
    "# Test the aligned kernel"
   ]
  },
  {
   "cell_type": "code",
   "execution_count": null,
   "metadata": {
    "scrolled": true,
    "slideshow": {
     "slide_type": "fragment"
    }
   },
   "outputs": [],
   "source": [
    "from qka.kernel_matrix import KernelMatrix\n",
    "from sklearn.svm import SVC\n",
    "from sklearn import metrics\n",
    "\n",
    "# Test the aligned kernel on test data:\n",
    "\n",
    "kernel_aligned = result['aligned_kernel_matrix']\n",
    "model = SVC(C=C, kernel='precomputed')\n",
    "model.fit(X=kernel_aligned, y=y_train)\n",
    "\n",
    "km = KernelMatrix(feature_map=fm, backend=backend)\n",
    "kernel_test = km.construct_kernel_matrix(x1_vec=x_test, x2_vec=x_train, parameters=result['aligned_kernel_parameters'])\n",
    "labels_test = model.predict(X=kernel_test)\n",
    "accuracy_test = metrics.balanced_accuracy_score(y_true=y_test, y_pred=labels_test)\n",
    "print(f\"accuracy test: {accuracy_test}\")"
   ]
  },
  {
   "cell_type": "code",
   "execution_count": null,
   "metadata": {},
   "outputs": [],
   "source": []
  }
 ],
 "metadata": {
  "celltoolbar": "Slideshow",
  "kernelspec": {
   "display_name": "Python [conda env:qiskit0.25.0python3.7] *",
   "language": "python",
   "name": "conda-env-qiskit0.25.0python3.7-py"
  },
  "language_info": {
   "codemirror_mode": {
    "name": "ipython",
    "version": 3
   },
   "file_extension": ".py",
   "mimetype": "text/x-python",
   "name": "python",
   "nbconvert_exporter": "python",
   "pygments_lexer": "ipython3",
   "version": "3.7.10"
  }
 },
 "nbformat": 4,
 "nbformat_minor": 4
}
