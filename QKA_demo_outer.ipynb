{
 "cells": [
  {
   "cell_type": "code",
   "execution_count": 1,
   "metadata": {
    "slideshow": {
     "slide_type": "skip"
    }
   },
   "outputs": [],
   "source": [
    "import os\n",
    "os.environ[\"PYTHON_EXEC\"] = \"/Users/jessieyu/.pyenv/versions/qka-demo/bin/python3\"\n",
    "os.environ[\"NTC_DOC_FILE\"] = \"runtime/program_doc.json\"\n",
    "os.environ[\"NTC_PROGRAM_FILE\"] = \"runtime/qka_runtime_outer.py\""
   ]
  },
  {
   "cell_type": "markdown",
   "metadata": {
    "slideshow": {
     "slide_type": "slide"
    }
   },
   "source": [
    "# List available quantum programs"
   ]
  },
  {
   "cell_type": "code",
   "execution_count": 2,
   "metadata": {
    "slideshow": {
     "slide_type": "fragment"
    }
   },
   "outputs": [
    {
     "name": "stdout",
     "output_type": "stream",
     "text": [
      "==================================================\n",
      "\"Quantum-Kernel-Alignment\":\n",
      "  Description: Quantum kernel alignment algorithm that learns, on a given dataset, a quantum kernel maximizing the SVM classification margin.\n",
      "  Parameters:\n",
      "    - feature_map:\n",
      "      description: An instance of FeatureMapForrelation in dictionary format used to map classical data into a quantum state space.\n",
      "      type: dict\n",
      "    - data:\n",
      "      description: NxD array of training data, where N is the number of samples and D is the feature dimension.\n",
      "      type: numpy.ndarray\n",
      "    - labels:\n",
      "      description: Nx1 array of +/-1 labels of the N training samples.\n",
      "      type: numpy.ndarray\n",
      "    - lambda_initial:\n",
      "      description: Initial parameters of the quantum feature map.\n",
      "      type: numpy.ndarray\n",
      "    - spsa_steps:\n",
      "      description: Number of SPSA optimization steps.\n",
      "      type: int\n",
      "    - C:\n",
      "      description: Penalty parameter for the soft-margin support vector machine.\n",
      "      type: float\n",
      "  Returns:\n",
      "    - aligned_kernel_parameters:\n",
      "      description: The optimized kernel parameters found from quantum kernel alignment.\n",
      "      type: numpy.ndarray\n",
      "    - aligned_kernel_matrix:\n",
      "      description: The aligned quantum kernel matrix evaluated with the optimized kernel parameters on the training data.\n",
      "      type: numpy.ndarray\n"
     ]
    }
   ],
   "source": [
    "from qiskit import IBMQ\n",
    "\n",
    "provider = IBMQ.load_account()\n",
    "provider.runtime.programs()"
   ]
  },
  {
   "cell_type": "markdown",
   "metadata": {
    "slideshow": {
     "slide_type": "slide"
    }
   },
   "source": [
    "# Invoke Quantum Kernel Alignment program"
   ]
  },
  {
   "cell_type": "code",
   "execution_count": 3,
   "metadata": {
    "slideshow": {
     "slide_type": "fragment"
    }
   },
   "outputs": [],
   "source": [
    "import numpy as np\n",
    "from qka.featuremaps import FeatureMapForrelation\n",
    "\n",
    "num_samples=5  # number of samples per class in the input data\n",
    "num_features=2 # number of features in the input data\n",
    "depth=2        # depth of the feature map circuit\n",
    "C=1            # SVM soft-margin penalty\n",
    "spsa_steps=2   # number of SPSA iterations\n",
    "\n",
    "# Define the feature map and its initial parameters:\n",
    "fm = FeatureMapForrelation(feature_dimension=num_features, depth=depth, entangler_map=None)\n",
    "lambda_initial = np.random.uniform(-1,1, size=(fm._num_parameters))\n",
    "\n",
    "# create random test data and labels:\n",
    "x_train = np.random.rand(2*num_samples, num_features)\n",
    "y_train = np.concatenate((-1*np.ones(num_samples), np.ones(num_samples)))\n",
    "\n",
    "backend = provider.backend.ibmq_qasm_simulator"
   ]
  },
  {
   "cell_type": "code",
   "execution_count": 4,
   "metadata": {
    "slideshow": {
     "slide_type": "fragment"
    }
   },
   "outputs": [],
   "source": [
    "def interim_result_callback(interim_result):\n",
    "    print(f\"interim result: {interim_result}\\n\")"
   ]
  },
  {
   "cell_type": "code",
   "execution_count": 5,
   "metadata": {
    "slideshow": {
     "slide_type": "slide"
    }
   },
   "outputs": [
    {
     "name": "stdout",
     "output_type": "stream",
     "text": [
      "interim result: {'cost': 8.366700209755901, 'lambda': array([-0.43848082,  0.33305944, -0.36154461,  0.47137867]), 'cost_plus': 7.978517695802974, 'cost_minus': 8.754882723708826, 'cost_final': 8.366700209755901}\n",
      "\n",
      "interim result: {'cost': 7.304830508235804, 'lambda': array([-0.45233931,  0.31920095, -0.34768613,  0.48523715]), 'cost_plus': 7.500955023334846, 'cost_minus': 7.108705993136761, 'cost_final': 7.304830508235804}\n",
      "\n",
      "final result:\n",
      "aligned_kernel_parameters: [-0.08908201  0.06522604 -0.07092307  0.09566158]\n",
      "aligned_kernel_matrix: [[1.         0.73925781 0.3046875  0.25683594 0.55566406 0.33398438\n",
      "  0.86035156 0.00976562 0.70898438 0.31152344]\n",
      " [0.73925781 1.         0.77246094 0.74804688 0.94238281 0.60351562\n",
      "  0.97265625 0.1328125  0.93847656 0.42285156]\n",
      " [0.3046875  0.77246094 1.         0.94824219 0.91601562 0.75585938\n",
      "  0.66796875 0.28613281 0.77734375 0.47070312]\n",
      " [0.25683594 0.74804688 0.94824219 1.         0.87304688 0.59179688\n",
      "  0.59667969 0.30273438 0.6953125  0.35351562]\n",
      " [0.55566406 0.94238281 0.91601562 0.87304688 1.         0.72558594\n",
      "  0.87890625 0.16992188 0.93164062 0.54589844]\n",
      " [0.33398438 0.60351562 0.75585938 0.59179688 0.72558594 1.\n",
      "  0.61132812 0.47167969 0.70898438 0.49707031]\n",
      " [0.86035156 0.97265625 0.66796875 0.59667969 0.87890625 0.61132812\n",
      "  1.         0.08007812 0.95800781 0.48339844]\n",
      " [0.00976562 0.1328125  0.28613281 0.30273438 0.16992188 0.47167969\n",
      "  0.08007812 1.         0.12988281 0.00195312]\n",
      " [0.70898438 0.93847656 0.77734375 0.6953125  0.93164062 0.70898438\n",
      "  0.95800781 0.12988281 1.         0.68652344]\n",
      " [0.31152344 0.42285156 0.47070312 0.35351562 0.54589844 0.49707031\n",
      "  0.48339844 0.00195312 0.68652344 1.        ]]\n"
     ]
    }
   ],
   "source": [
    "# Call QKA runtime program.\n",
    "runtime_params = {\n",
    "    'feature_map': fm.to_dict(),\n",
    "    'data': x_train,\n",
    "    'labels': y_train,\n",
    "    'lambda_initial': lambda_initial,\n",
    "    'spsa_steps': 2,\n",
    "    'C': C\n",
    "}\n",
    "options = {'backend_name': backend.name()}\n",
    "result = provider.runtime.run(program_name=\"Quantum-Kernel-Alignment\",\n",
    "                              options=options,\n",
    "                              params=runtime_params,\n",
    "                              callback=interim_result_callback,\n",
    "                             ).result()\n",
    "print(\"final result:\")\n",
    "print(f\"aligned_kernel_parameters: {result['aligned_kernel_parameters']}\")\n",
    "print(f\"aligned_kernel_matrix: {result['aligned_kernel_matrix']}\")"
   ]
  },
  {
   "cell_type": "markdown",
   "metadata": {
    "slideshow": {
     "slide_type": "slide"
    }
   },
   "source": [
    "# Test the aligned kernel"
   ]
  },
  {
   "cell_type": "code",
   "execution_count": 6,
   "metadata": {
    "slideshow": {
     "slide_type": "fragment"
    }
   },
   "outputs": [
    {
     "name": "stdout",
     "output_type": "stream",
     "text": [
      "accuracy test: 0.6000000000000001\n"
     ]
    }
   ],
   "source": [
    "from qka.kernel_matrix import KernelMatrix\n",
    "from sklearn.svm import SVC\n",
    "from sklearn import metrics\n",
    "\n",
    "# Test the aligned kernel on test data:\n",
    "\n",
    "x_test = np.random.rand(2*num_samples, num_features)\n",
    "y_test = np.concatenate((-1*np.ones(num_samples), np.ones(num_samples)))\n",
    "\n",
    "kernel_aligned = result['aligned_kernel_matrix']\n",
    "model = SVC(C=C, kernel='precomputed')\n",
    "model.fit(X=kernel_aligned, y=y_train)\n",
    "\n",
    "km = KernelMatrix(feature_map=fm, backend=backend)\n",
    "kernel_test = km.construct_kernel_matrix(x1_vec=x_test, x2_vec=x_train, parameters=result['aligned_kernel_parameters'])\n",
    "labels_test = model.predict(X=kernel_test)\n",
    "accuracy_test = metrics.balanced_accuracy_score(y_true=y_test, y_pred=labels_test)\n",
    "print(f\"accuracy test: {accuracy_test}\")"
   ]
  }
 ],
 "metadata": {
  "celltoolbar": "Slideshow",
  "kernelspec": {
   "display_name": "Python 3",
   "language": "python",
   "name": "python3"
  },
  "language_info": {
   "codemirror_mode": {
    "name": "ipython",
    "version": 3
   },
   "file_extension": ".py",
   "mimetype": "text/x-python",
   "name": "python",
   "nbconvert_exporter": "python",
   "pygments_lexer": "ipython3",
   "version": "3.8.1"
  }
 },
 "nbformat": 4,
 "nbformat_minor": 4
}
