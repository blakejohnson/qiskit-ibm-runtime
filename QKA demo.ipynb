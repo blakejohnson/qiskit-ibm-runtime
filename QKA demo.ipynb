{
 "cells": [
  {
   "cell_type": "code",
   "execution_count": 1,
   "metadata": {},
   "outputs": [],
   "source": [
    "import os\n",
    "os.environ[\"PYTHON_EXEC\"] = \"/Users/jessieyu/.pyenv/versions/qka-demo/bin/python3\"\n",
    "os.environ[\"NTC_DOC_FILE\"] = \"runtime/qka_doc.json\"\n",
    "os.environ[\"NTC_PROGRAM_FILE\"] = \"runtime/qka_runtime.py\""
   ]
  },
  {
   "cell_type": "code",
   "execution_count": 2,
   "metadata": {},
   "outputs": [],
   "source": [
    "from qiskit import IBMQ"
   ]
  },
  {
   "cell_type": "code",
   "execution_count": 3,
   "metadata": {},
   "outputs": [],
   "source": [
    "provider = IBMQ.load_account()"
   ]
  },
  {
   "cell_type": "code",
   "execution_count": 4,
   "metadata": {},
   "outputs": [
    {
     "name": "stdout",
     "output_type": "stream",
     "text": [
      "Runtime Program QKA:\n",
      "  Description: Quantum kernel alignment algorithm.\n",
      "  Parameters:\n",
      "    feature_map:\n",
      "      description: quantum feature map\n",
      "      type: FeatureMapQuantumControl\n",
      "    data:\n",
      "      description: NxD array, where N is the number of data points, D is the feature dimension.\n",
      "      type: numpy.ndarray\n",
      "    labels:\n",
      "      description: Nx1 array of +/-1, where N is the number of data points\n",
      "      type: numpy.ndarray\n",
      "    lambda_plus:\n",
      "      description: Plus kernel parameter\n",
      "      type: numpy.ndarray\n",
      "    lambda_minus:\n",
      "      description: Minus kernel parameter\n",
      "      type: numpy.ndarray\n",
      "    C:\n",
      "      description: penalty parameter for soft-margin\n",
      "      type: float\n",
      "  Returns:\n",
      "    cost_plus:\n",
      "      description: SVM objective function evaluated at (alpha_+, lambda_+)\n",
      "      type: float\n",
      "    cost_minus:\n",
      "      description: SVM objective function evaluated at (alpha_-, lambda_-)\n",
      "      type: float\n"
     ]
    }
   ],
   "source": [
    "provider.runtime.programs()"
   ]
  },
  {
   "cell_type": "code",
   "execution_count": 5,
   "metadata": {},
   "outputs": [],
   "source": [
    "from qka.qka_utils import SPSA_parameters, spsa_step_one, spsa_step_two\n",
    "from qka.kernel_matrix import KernelMatrix\n",
    "from qiskit.aqua import QuantumInstance"
   ]
  },
  {
   "cell_type": "code",
   "execution_count": 6,
   "metadata": {},
   "outputs": [],
   "source": [
    "def align_kernel(backend, feature_map, data, labels, lambda_initial=None, spsa_steps=10, C=1):\n",
    "    \"\"\"Align the quantum kernel.\n",
    "\n",
    "    Uses SPSA for minimization wrt kernel parameters (lambda) and\n",
    "    gradient ascent for maximization wrt support vector weights (alpha):\n",
    "\n",
    "    min max cost_function\n",
    "\n",
    "    Args:\n",
    "        data (numpy.ndarray): NxD array, where N is the number of data points, D is the feature dimension.\n",
    "        labels (numpy.ndarray): Nx1 array of +/-1, where N is the number of data points\n",
    "        lambda_initial (array): initial lambdas for feature map\n",
    "        spsa_steps (int): number of SPSA steps\n",
    "        C (float): penalty parameter for soft-margin\n",
    "\n",
    "    Returns:\n",
    "        lambdas (array): list of best kernel parameters averaged over the last 10 SPSA steps\n",
    "        cost_plus_save (list): SVM objective function evaluated at (alpha_+, lambda_+) at each SPSA step\n",
    "        cost_minus_save (list): SVM objective function evaluated at (alpha_-, lambda_-) at each SPSA step\n",
    "        cost_final_save (list): estimate of updated SVM objective function F using average of F(alpha_+, lambda_+) and F(alpha_-, lambda_-) at each SPSA step\n",
    "        lambda_save(list): kernel parameters updated at each SPSA step\n",
    "        kernel_best (array): the final kernel matrix evaluated with best set of parameters averaged over the last 10 SPSA steps.\n",
    "        program_data: the full Results object for the final kernel matrix of each SPSA iteration\n",
    "\n",
    "    \"\"\"\n",
    "\n",
    "    lambdas = lambda_initial\n",
    "    kernel_matrix = KernelMatrix(feature_map, QuantumInstance(backend))\n",
    "\n",
    "    # Pre-computed spsa parameters:\n",
    "    spsa_params = SPSA_parameters()\n",
    "\n",
    "    # Save data at each SPSA run in the following lists:\n",
    "    lambda_save = []       # updated kernel parameters after each spsa step\n",
    "\n",
    "    # #####################\n",
    "    # Start the alignment:\n",
    "\n",
    "    for count in range(spsa_steps):\n",
    "\n",
    "        print('SPSA step {} of {}:'.format(count+1, spsa_steps))\n",
    "\n",
    "        lambda_plus, lambda_minus, delta = spsa_step_one(lambdas=lambdas, spsa_params=spsa_params, count=count)\n",
    "        \n",
    "        # Call QKA runtime program.\n",
    "        runtime_params = {\n",
    "            'feature_map': feature_map.to_dict(),\n",
    "            'data': data,\n",
    "            'labels': labels,\n",
    "            'lambda_plus': lambda_plus,\n",
    "            'lambda_minus': lambda_minus,\n",
    "            'C': C\n",
    "        }\n",
    "        provider = backend.provider()\n",
    "        cost_plus, cost_minus = provider.runtime.run(program_name=\"QKA\",\n",
    "                                                     backend=backend,\n",
    "                                                     params=runtime_params).result()\n",
    "        \n",
    "        cost_final, lambda_best = spsa_step_two(cost_plus=cost_plus, cost_minus=cost_minus,\n",
    "                                                lambdas=lambdas, spsa_params=spsa_params, delta=delta, count=count)\n",
    "\n",
    "        print('\\033[92m Cost: {}\\033[00m'.format(cost_final))\n",
    "\n",
    "        lambdas = lambda_best  # updated kernel parameters\n",
    "\n",
    "        lambda_save.append(lambdas)\n",
    "\n",
    "    # Evaluate aligned kernel matrix with best set of parameters averaged over last 10 steps:\n",
    "    lambdas = np.sum(np.array(lambda_save)[-10:, :],axis = 0)/10\n",
    "    kernel_best = kernel_matrix.construct_kernel_matrix(x1_vec=data, x2_vec=data, parameters=lambdas)\n",
    "\n",
    "    return {'best_kernel_parameters': lambdas,\n",
    "            'best_kernel_matrix': kernel_best}\n"
   ]
  },
  {
   "cell_type": "code",
   "execution_count": 7,
   "metadata": {},
   "outputs": [],
   "source": [
    "import numpy as np\n",
    "from qka.featuremaps import FeatureMapQuantumControl"
   ]
  },
  {
   "cell_type": "code",
   "execution_count": 8,
   "metadata": {},
   "outputs": [
    {
     "name": "stdout",
     "output_type": "stream",
     "text": [
      "SPSA step 1 of 2:\n",
      "\u001b[92m Cost: 6.493570204085309\u001b[00m\n",
      "SPSA step 2 of 2:\n",
      "\u001b[92m Cost: 6.074246109672153\u001b[00m\n"
     ]
    },
    {
     "name": "stderr",
     "output_type": "stream",
     "text": [
      "/Users/jessieyu/.pyenv/versions/3.8.1/envs/qka-demo/lib/python3.8/site-packages/qiskit/providers/ibmq/ibmqbackend.py:800: DeprecationWarning: Passing a Qobj to Backend.run is deprecated and will be removed in a future release. Please pass in circuits or pulse schedules instead.\n",
      "  return super().run(circuits, job_name=job_name, job_share_level=job_share_level,\n"
     ]
    },
    {
     "name": "stdout",
     "output_type": "stream",
     "text": [
      "best_kernel_parameters: [ 0.03331271  0.16630372  0.18078404 -0.0822165 ]\n",
      "best_kernel_matrix: [[1.         0.15917969 0.46972656 0.20117188 0.19824219 0.01953125\n",
      "  0.57421875 0.26464844 0.82617188 0.59472656]\n",
      " [0.15917969 1.         0.26660156 0.71679688 0.203125   0.07128906\n",
      "  0.08007812 0.21191406 0.38769531 0.109375  ]\n",
      " [0.46972656 0.26660156 1.         0.14746094 0.65429688 0.26269531\n",
      "  0.17285156 0.04003906 0.39355469 0.26367188]\n",
      " [0.20117188 0.71679688 0.14746094 1.         0.0859375  0.21191406\n",
      "  0.29980469 0.65039062 0.17578125 0.26171875]\n",
      " [0.19824219 0.203125   0.65429688 0.0859375  1.         0.59375\n",
      "  0.03417969 0.1953125  0.16699219 0.14160156]\n",
      " [0.01953125 0.07128906 0.26269531 0.21191406 0.59375    1.\n",
      "  0.27148438 0.60644531 0.01757812 0.28808594]\n",
      " [0.57421875 0.08007812 0.17285156 0.29980469 0.03417969 0.27148438\n",
      "  1.         0.34960938 0.25097656 0.95800781]\n",
      " [0.26464844 0.21191406 0.04003906 0.65039062 0.1953125  0.60644531\n",
      "  0.34960938 1.         0.20996094 0.28417969]\n",
      " [0.82617188 0.38769531 0.39355469 0.17578125 0.16699219 0.01757812\n",
      "  0.25097656 0.20996094 1.         0.29589844]\n",
      " [0.59472656 0.109375   0.26367188 0.26171875 0.14160156 0.28808594\n",
      "  0.95800781 0.28417969 0.29589844 1.        ]]\n"
     ]
    }
   ],
   "source": [
    "num_samples=5  # number of samples per class in the input data\n",
    "num_features=2 # number of features in the input data\n",
    "depth=2        # depth of the feature map circuit\n",
    "C=1            # SVM soft-margin penalty\n",
    "spsa_steps=2  # number of SPSA iterations\n",
    "\n",
    "backend = provider.backend.ibmq_qasm_simulator\n",
    "\n",
    "# create random test data and labels:\n",
    "x_train = np.random.rand(2*num_samples, num_features)\n",
    "y_train = np.concatenate((-1*np.ones(num_samples), np.ones(num_samples)))\n",
    "\n",
    "# Define the feature map and its initial parameters:\n",
    "fm = FeatureMapQuantumControl(feature_dimension=num_features, depth=depth, entangler_map=None)\n",
    "lambda_initial = np.random.uniform(-1,1, size=(fm._num_parameters))\n",
    "\n",
    "# Align the quantum kernel:\n",
    "qka_results = align_kernel(backend=backend, feature_map=fm,\n",
    "                           data=x_train, labels=y_train,\n",
    "                           lambda_initial=lambda_initial,\n",
    "                           spsa_steps=spsa_steps, C=C)\n",
    "print(f\"best_kernel_parameters: {qka_results['best_kernel_parameters']}\")\n",
    "print(f\"best_kernel_matrix: {qka_results['best_kernel_matrix']}\")"
   ]
  },
  {
   "cell_type": "code",
   "execution_count": null,
   "metadata": {},
   "outputs": [],
   "source": []
  }
 ],
 "metadata": {
  "kernelspec": {
   "display_name": "Python 3",
   "language": "python",
   "name": "python3"
  },
  "language_info": {
   "codemirror_mode": {
    "name": "ipython",
    "version": 3
   },
   "file_extension": ".py",
   "mimetype": "text/x-python",
   "name": "python",
   "nbconvert_exporter": "python",
   "pygments_lexer": "ipython3",
   "version": "3.8.1"
  }
 },
 "nbformat": 4,
 "nbformat_minor": 4
}
